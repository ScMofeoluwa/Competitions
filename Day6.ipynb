{
  "nbformat": 4,
  "nbformat_minor": 0,
  "metadata": {
    "colab": {
      "name": "Day6.ipynb",
      "provenance": [],
      "collapsed_sections": [],
      "authorship_tag": "ABX9TyNse1A5Ij0EySQkeV5OtfMT",
      "include_colab_link": true
    },
    "kernelspec": {
      "name": "python3",
      "display_name": "Python 3"
    }
  },
  "cells": [
    {
      "cell_type": "markdown",
      "metadata": {
        "id": "view-in-github",
        "colab_type": "text"
      },
      "source": [
        "<a href=\"https://colab.research.google.com/github/ScMofeoluwa/Competitions/blob/master/Day6.ipynb\" target=\"_parent\"><img src=\"https://colab.research.google.com/assets/colab-badge.svg\" alt=\"Open In Colab\"/></a>"
      ]
    },
    {
      "cell_type": "code",
      "metadata": {
        "id": "4RC-hA4F6Jnf",
        "colab_type": "code",
        "colab": {
          "base_uri": "https://localhost:8080/",
          "height": 70
        },
        "outputId": "653eb208-8365-4769-f538-ca49608dceb8"
      },
      "source": [
        "import numpy as np\n",
        "import pandas as pd\n",
        "import seaborn as sns\n",
        "import matplotlib.pyplot as plt\n",
        "%matplotlib inline"
      ],
      "execution_count": null,
      "outputs": [
        {
          "output_type": "stream",
          "text": [
            "/usr/local/lib/python3.6/dist-packages/statsmodels/tools/_testing.py:19: FutureWarning: pandas.util.testing is deprecated. Use the functions in the public API at pandas.testing instead.\n",
            "  import pandas.util.testing as tm\n"
          ],
          "name": "stderr"
        }
      ]
    },
    {
      "cell_type": "code",
      "metadata": {
        "id": "1O1owmxn66i_",
        "colab_type": "code",
        "colab": {}
      },
      "source": [
        "df = pd.read_csv('Pittsburgh bridges.csv')"
      ],
      "execution_count": null,
      "outputs": []
    },
    {
      "cell_type": "code",
      "metadata": {
        "id": "DbKhE1Zo7AgD",
        "colab_type": "code",
        "colab": {
          "base_uri": "https://localhost:8080/",
          "height": 195
        },
        "outputId": "3941c9dc-bdff-49cd-de98-c371a062fd0a"
      },
      "source": [
        "df.head()"
      ],
      "execution_count": null,
      "outputs": [
        {
          "output_type": "execute_result",
          "data": {
            "text/html": [
              "<div>\n",
              "<style scoped>\n",
              "    .dataframe tbody tr th:only-of-type {\n",
              "        vertical-align: middle;\n",
              "    }\n",
              "\n",
              "    .dataframe tbody tr th {\n",
              "        vertical-align: top;\n",
              "    }\n",
              "\n",
              "    .dataframe thead th {\n",
              "        text-align: right;\n",
              "    }\n",
              "</style>\n",
              "<table border=\"1\" class=\"dataframe\">\n",
              "  <thead>\n",
              "    <tr style=\"text-align: right;\">\n",
              "      <th></th>\n",
              "      <th>IDENTIF</th>\n",
              "      <th>RIVER</th>\n",
              "      <th>LOCATION</th>\n",
              "      <th>ERECTED</th>\n",
              "      <th>PURPOSE</th>\n",
              "      <th>LENGTH</th>\n",
              "      <th>LANES</th>\n",
              "      <th>CLEAR-G</th>\n",
              "      <th>T-OR-D</th>\n",
              "      <th>MATERIAL</th>\n",
              "      <th>SPAN</th>\n",
              "      <th>REL-L</th>\n",
              "      <th>TYPE</th>\n",
              "    </tr>\n",
              "  </thead>\n",
              "  <tbody>\n",
              "    <tr>\n",
              "      <th>0</th>\n",
              "      <td>E1</td>\n",
              "      <td>M</td>\n",
              "      <td>3</td>\n",
              "      <td>1818</td>\n",
              "      <td>HIGHWAY</td>\n",
              "      <td>?</td>\n",
              "      <td>2</td>\n",
              "      <td>N</td>\n",
              "      <td>THROUGH</td>\n",
              "      <td>WOOD</td>\n",
              "      <td>SHORT</td>\n",
              "      <td>S</td>\n",
              "      <td>WOOD</td>\n",
              "    </tr>\n",
              "    <tr>\n",
              "      <th>1</th>\n",
              "      <td>E2</td>\n",
              "      <td>A</td>\n",
              "      <td>25</td>\n",
              "      <td>1819</td>\n",
              "      <td>HIGHWAY</td>\n",
              "      <td>1037</td>\n",
              "      <td>2</td>\n",
              "      <td>N</td>\n",
              "      <td>THROUGH</td>\n",
              "      <td>WOOD</td>\n",
              "      <td>SHORT</td>\n",
              "      <td>S</td>\n",
              "      <td>WOOD</td>\n",
              "    </tr>\n",
              "    <tr>\n",
              "      <th>2</th>\n",
              "      <td>E3</td>\n",
              "      <td>A</td>\n",
              "      <td>39</td>\n",
              "      <td>1829</td>\n",
              "      <td>AQUEDUCT</td>\n",
              "      <td>?</td>\n",
              "      <td>1</td>\n",
              "      <td>N</td>\n",
              "      <td>THROUGH</td>\n",
              "      <td>WOOD</td>\n",
              "      <td>?</td>\n",
              "      <td>S</td>\n",
              "      <td>WOOD</td>\n",
              "    </tr>\n",
              "    <tr>\n",
              "      <th>3</th>\n",
              "      <td>E5</td>\n",
              "      <td>A</td>\n",
              "      <td>29</td>\n",
              "      <td>1837</td>\n",
              "      <td>HIGHWAY</td>\n",
              "      <td>1000</td>\n",
              "      <td>2</td>\n",
              "      <td>N</td>\n",
              "      <td>THROUGH</td>\n",
              "      <td>WOOD</td>\n",
              "      <td>SHORT</td>\n",
              "      <td>S</td>\n",
              "      <td>WOOD</td>\n",
              "    </tr>\n",
              "    <tr>\n",
              "      <th>4</th>\n",
              "      <td>E6</td>\n",
              "      <td>M</td>\n",
              "      <td>23</td>\n",
              "      <td>1838</td>\n",
              "      <td>HIGHWAY</td>\n",
              "      <td>?</td>\n",
              "      <td>2</td>\n",
              "      <td>N</td>\n",
              "      <td>THROUGH</td>\n",
              "      <td>WOOD</td>\n",
              "      <td>?</td>\n",
              "      <td>S</td>\n",
              "      <td>WOOD</td>\n",
              "    </tr>\n",
              "  </tbody>\n",
              "</table>\n",
              "</div>"
            ],
            "text/plain": [
              "  IDENTIF RIVER LOCATION  ERECTED  ... MATERIAL   SPAN REL-L  TYPE\n",
              "0      E1     M        3     1818  ...     WOOD  SHORT     S  WOOD\n",
              "1      E2     A       25     1819  ...     WOOD  SHORT     S  WOOD\n",
              "2      E3     A       39     1829  ...     WOOD      ?     S  WOOD\n",
              "3      E5     A       29     1837  ...     WOOD  SHORT     S  WOOD\n",
              "4      E6     M       23     1838  ...     WOOD      ?     S  WOOD\n",
              "\n",
              "[5 rows x 13 columns]"
            ]
          },
          "metadata": {
            "tags": []
          },
          "execution_count": 3
        }
      ]
    },
    {
      "cell_type": "code",
      "metadata": {
        "id": "IgaTk0WG7CMu",
        "colab_type": "code",
        "colab": {
          "base_uri": "https://localhost:8080/",
          "height": 70
        },
        "outputId": "d0f99822-0d5f-45d9-8bca-d4afcba5b4e0"
      },
      "source": [
        "df = df.replace(df[df == '?'],np.nan)"
      ],
      "execution_count": null,
      "outputs": [
        {
          "output_type": "stream",
          "text": [
            "/usr/local/lib/python3.6/dist-packages/pandas/core/ops/array_ops.py:253: FutureWarning: elementwise comparison failed; returning scalar instead, but in the future will perform elementwise comparison\n",
            "  res_values = method(rvalues)\n"
          ],
          "name": "stderr"
        }
      ]
    },
    {
      "cell_type": "code",
      "metadata": {
        "id": "RKaeop677-c2",
        "colab_type": "code",
        "colab": {}
      },
      "source": [
        "df['LOCATION'] = df['LOCATION'].fillna(value='30')\n",
        "df['LENGTH'] = df['LENGTH'].fillna(value='1800')\n",
        "df['LANES'] = df['LANES'].fillna(value='1')\n",
        "df['CLEAR-G'] = df['CLEAR-G'].fillna(value='N')\n",
        "df['T-OR-D'] = df['T-OR-D'].fillna(value='DECK')\n",
        "df['SPAN'] = df['SPAN'].fillna(value='SHORT')\n",
        "df['REL-L'] = df['REL-L'].fillna(value='S-F')\n"
      ],
      "execution_count": null,
      "outputs": []
    },
    {
      "cell_type": "code",
      "metadata": {
        "id": "TGK141-h9_DT",
        "colab_type": "code",
        "colab": {
          "base_uri": "https://localhost:8080/",
          "height": 195
        },
        "outputId": "5e030c75-8300-4156-9eb8-9b14af865940"
      },
      "source": [
        "df.head()"
      ],
      "execution_count": null,
      "outputs": [
        {
          "output_type": "execute_result",
          "data": {
            "text/html": [
              "<div>\n",
              "<style scoped>\n",
              "    .dataframe tbody tr th:only-of-type {\n",
              "        vertical-align: middle;\n",
              "    }\n",
              "\n",
              "    .dataframe tbody tr th {\n",
              "        vertical-align: top;\n",
              "    }\n",
              "\n",
              "    .dataframe thead th {\n",
              "        text-align: right;\n",
              "    }\n",
              "</style>\n",
              "<table border=\"1\" class=\"dataframe\">\n",
              "  <thead>\n",
              "    <tr style=\"text-align: right;\">\n",
              "      <th></th>\n",
              "      <th>IDENTIF</th>\n",
              "      <th>RIVER</th>\n",
              "      <th>LOCATION</th>\n",
              "      <th>ERECTED</th>\n",
              "      <th>PURPOSE</th>\n",
              "      <th>LENGTH</th>\n",
              "      <th>LANES</th>\n",
              "      <th>CLEAR-G</th>\n",
              "      <th>T-OR-D</th>\n",
              "      <th>MATERIAL</th>\n",
              "      <th>SPAN</th>\n",
              "      <th>REL-L</th>\n",
              "      <th>TYPE</th>\n",
              "    </tr>\n",
              "  </thead>\n",
              "  <tbody>\n",
              "    <tr>\n",
              "      <th>0</th>\n",
              "      <td>E1</td>\n",
              "      <td>M</td>\n",
              "      <td>3</td>\n",
              "      <td>1818</td>\n",
              "      <td>HIGHWAY</td>\n",
              "      <td>1800</td>\n",
              "      <td>2</td>\n",
              "      <td>N</td>\n",
              "      <td>THROUGH</td>\n",
              "      <td>WOOD</td>\n",
              "      <td>SHORT</td>\n",
              "      <td>S</td>\n",
              "      <td>WOOD</td>\n",
              "    </tr>\n",
              "    <tr>\n",
              "      <th>1</th>\n",
              "      <td>E2</td>\n",
              "      <td>A</td>\n",
              "      <td>25</td>\n",
              "      <td>1819</td>\n",
              "      <td>HIGHWAY</td>\n",
              "      <td>1037</td>\n",
              "      <td>2</td>\n",
              "      <td>N</td>\n",
              "      <td>THROUGH</td>\n",
              "      <td>WOOD</td>\n",
              "      <td>SHORT</td>\n",
              "      <td>S</td>\n",
              "      <td>WOOD</td>\n",
              "    </tr>\n",
              "    <tr>\n",
              "      <th>2</th>\n",
              "      <td>E3</td>\n",
              "      <td>A</td>\n",
              "      <td>39</td>\n",
              "      <td>1829</td>\n",
              "      <td>AQUEDUCT</td>\n",
              "      <td>1800</td>\n",
              "      <td>1</td>\n",
              "      <td>N</td>\n",
              "      <td>THROUGH</td>\n",
              "      <td>WOOD</td>\n",
              "      <td>SHORT</td>\n",
              "      <td>S</td>\n",
              "      <td>WOOD</td>\n",
              "    </tr>\n",
              "    <tr>\n",
              "      <th>3</th>\n",
              "      <td>E5</td>\n",
              "      <td>A</td>\n",
              "      <td>29</td>\n",
              "      <td>1837</td>\n",
              "      <td>HIGHWAY</td>\n",
              "      <td>1000</td>\n",
              "      <td>2</td>\n",
              "      <td>N</td>\n",
              "      <td>THROUGH</td>\n",
              "      <td>WOOD</td>\n",
              "      <td>SHORT</td>\n",
              "      <td>S</td>\n",
              "      <td>WOOD</td>\n",
              "    </tr>\n",
              "    <tr>\n",
              "      <th>4</th>\n",
              "      <td>E6</td>\n",
              "      <td>M</td>\n",
              "      <td>23</td>\n",
              "      <td>1838</td>\n",
              "      <td>HIGHWAY</td>\n",
              "      <td>1800</td>\n",
              "      <td>2</td>\n",
              "      <td>N</td>\n",
              "      <td>THROUGH</td>\n",
              "      <td>WOOD</td>\n",
              "      <td>SHORT</td>\n",
              "      <td>S</td>\n",
              "      <td>WOOD</td>\n",
              "    </tr>\n",
              "  </tbody>\n",
              "</table>\n",
              "</div>"
            ],
            "text/plain": [
              "  IDENTIF RIVER LOCATION  ERECTED  ... MATERIAL   SPAN REL-L  TYPE\n",
              "0      E1     M        3     1818  ...     WOOD  SHORT     S  WOOD\n",
              "1      E2     A       25     1819  ...     WOOD  SHORT     S  WOOD\n",
              "2      E3     A       39     1829  ...     WOOD  SHORT     S  WOOD\n",
              "3      E5     A       29     1837  ...     WOOD  SHORT     S  WOOD\n",
              "4      E6     M       23     1838  ...     WOOD  SHORT     S  WOOD\n",
              "\n",
              "[5 rows x 13 columns]"
            ]
          },
          "metadata": {
            "tags": []
          },
          "execution_count": 6
        }
      ]
    },
    {
      "cell_type": "code",
      "metadata": {
        "id": "4ACq6F05_3gk",
        "colab_type": "code",
        "colab": {
          "base_uri": "https://localhost:8080/",
          "height": 134
        },
        "outputId": "d15e5401-c5e0-4792-a1f1-e1576bfec5b4"
      },
      "source": [
        "df['TYPE'].value_counts()"
      ],
      "execution_count": null,
      "outputs": [
        {
          "output_type": "execute_result",
          "data": {
            "text/plain": [
              "SIMPLE-T    44\n",
              "WOOD        16\n",
              "ARCH        13\n",
              "CANTILEV    11\n",
              "SUSPEN      11\n",
              "CONT-T      10\n",
              "Name: TYPE, dtype: int64"
            ]
          },
          "metadata": {
            "tags": []
          },
          "execution_count": 7
        }
      ]
    },
    {
      "cell_type": "code",
      "metadata": {
        "id": "hSrSrczCA3iW",
        "colab_type": "code",
        "colab": {}
      },
      "source": [
        "res = {'IRON':1,'STEEL':2,'WOOD':3}\n",
        "des = {'A':1,'M':2,'O':3,'Y':4}\n",
        "mes = {'AQUEDUCT':1,'HIGHWAY':2,'RR':3,'WALK':4}\n",
        "nes = {'G':1,'N':2}\n",
        "pes = {'DECK':1,'THROUGH':2}\n",
        "df['MATERIAL'] = df['MATERIAL'].map(res)\n",
        "df['RIVER'] = df['RIVER'].map(des)\n",
        "df['PURPOSE'] = df['PURPOSE'].map(mes)\n",
        "df['CLEAR-G'] = df['CLEAR-G'].map(nes)\n",
        "df['T-OR-D'] = df['T-OR-D'].map(pes)"
      ],
      "execution_count": null,
      "outputs": []
    },
    {
      "cell_type": "code",
      "metadata": {
        "id": "JBwHLZzeB9QG",
        "colab_type": "code",
        "colab": {
          "base_uri": "https://localhost:8080/",
          "height": 195
        },
        "outputId": "e1fbc313-6ae7-4541-ca18-754659373cc1"
      },
      "source": [
        "df.head()\n"
      ],
      "execution_count": null,
      "outputs": [
        {
          "output_type": "execute_result",
          "data": {
            "text/html": [
              "<div>\n",
              "<style scoped>\n",
              "    .dataframe tbody tr th:only-of-type {\n",
              "        vertical-align: middle;\n",
              "    }\n",
              "\n",
              "    .dataframe tbody tr th {\n",
              "        vertical-align: top;\n",
              "    }\n",
              "\n",
              "    .dataframe thead th {\n",
              "        text-align: right;\n",
              "    }\n",
              "</style>\n",
              "<table border=\"1\" class=\"dataframe\">\n",
              "  <thead>\n",
              "    <tr style=\"text-align: right;\">\n",
              "      <th></th>\n",
              "      <th>IDENTIF</th>\n",
              "      <th>RIVER</th>\n",
              "      <th>LOCATION</th>\n",
              "      <th>ERECTED</th>\n",
              "      <th>PURPOSE</th>\n",
              "      <th>LENGTH</th>\n",
              "      <th>LANES</th>\n",
              "      <th>CLEAR-G</th>\n",
              "      <th>T-OR-D</th>\n",
              "      <th>MATERIAL</th>\n",
              "      <th>SPAN</th>\n",
              "      <th>REL-L</th>\n",
              "      <th>TYPE</th>\n",
              "    </tr>\n",
              "  </thead>\n",
              "  <tbody>\n",
              "    <tr>\n",
              "      <th>0</th>\n",
              "      <td>E1</td>\n",
              "      <td>2</td>\n",
              "      <td>3</td>\n",
              "      <td>1818</td>\n",
              "      <td>2</td>\n",
              "      <td>1800</td>\n",
              "      <td>2</td>\n",
              "      <td>2</td>\n",
              "      <td>2</td>\n",
              "      <td>3</td>\n",
              "      <td>SHORT</td>\n",
              "      <td>S</td>\n",
              "      <td>WOOD</td>\n",
              "    </tr>\n",
              "    <tr>\n",
              "      <th>1</th>\n",
              "      <td>E2</td>\n",
              "      <td>1</td>\n",
              "      <td>25</td>\n",
              "      <td>1819</td>\n",
              "      <td>2</td>\n",
              "      <td>1037</td>\n",
              "      <td>2</td>\n",
              "      <td>2</td>\n",
              "      <td>2</td>\n",
              "      <td>3</td>\n",
              "      <td>SHORT</td>\n",
              "      <td>S</td>\n",
              "      <td>WOOD</td>\n",
              "    </tr>\n",
              "    <tr>\n",
              "      <th>2</th>\n",
              "      <td>E3</td>\n",
              "      <td>1</td>\n",
              "      <td>39</td>\n",
              "      <td>1829</td>\n",
              "      <td>1</td>\n",
              "      <td>1800</td>\n",
              "      <td>1</td>\n",
              "      <td>2</td>\n",
              "      <td>2</td>\n",
              "      <td>3</td>\n",
              "      <td>SHORT</td>\n",
              "      <td>S</td>\n",
              "      <td>WOOD</td>\n",
              "    </tr>\n",
              "    <tr>\n",
              "      <th>3</th>\n",
              "      <td>E5</td>\n",
              "      <td>1</td>\n",
              "      <td>29</td>\n",
              "      <td>1837</td>\n",
              "      <td>2</td>\n",
              "      <td>1000</td>\n",
              "      <td>2</td>\n",
              "      <td>2</td>\n",
              "      <td>2</td>\n",
              "      <td>3</td>\n",
              "      <td>SHORT</td>\n",
              "      <td>S</td>\n",
              "      <td>WOOD</td>\n",
              "    </tr>\n",
              "    <tr>\n",
              "      <th>4</th>\n",
              "      <td>E6</td>\n",
              "      <td>2</td>\n",
              "      <td>23</td>\n",
              "      <td>1838</td>\n",
              "      <td>2</td>\n",
              "      <td>1800</td>\n",
              "      <td>2</td>\n",
              "      <td>2</td>\n",
              "      <td>2</td>\n",
              "      <td>3</td>\n",
              "      <td>SHORT</td>\n",
              "      <td>S</td>\n",
              "      <td>WOOD</td>\n",
              "    </tr>\n",
              "  </tbody>\n",
              "</table>\n",
              "</div>"
            ],
            "text/plain": [
              "  IDENTIF  RIVER LOCATION  ERECTED  ...  MATERIAL   SPAN REL-L  TYPE\n",
              "0      E1      2        3     1818  ...         3  SHORT     S  WOOD\n",
              "1      E2      1       25     1819  ...         3  SHORT     S  WOOD\n",
              "2      E3      1       39     1829  ...         3  SHORT     S  WOOD\n",
              "3      E5      1       29     1837  ...         3  SHORT     S  WOOD\n",
              "4      E6      2       23     1838  ...         3  SHORT     S  WOOD\n",
              "\n",
              "[5 rows x 13 columns]"
            ]
          },
          "metadata": {
            "tags": []
          },
          "execution_count": 9
        }
      ]
    },
    {
      "cell_type": "code",
      "metadata": {
        "id": "8imkfc0vCUiK",
        "colab_type": "code",
        "colab": {}
      },
      "source": [
        "from sklearn.preprocessing import LabelEncoder\n",
        "LE = LabelEncoder()\n",
        "df['SPAN'] = LE.fit_transform(df['SPAN'])\n",
        "df['REL-L'] = LE.fit_transform(df['REL-L'])"
      ],
      "execution_count": null,
      "outputs": []
    },
    {
      "cell_type": "code",
      "metadata": {
        "id": "fJoORq_dFAhV",
        "colab_type": "code",
        "colab": {
          "base_uri": "https://localhost:8080/",
          "height": 195
        },
        "outputId": "1ee6b5ce-9d08-42ca-bdf8-5a5d48332c85"
      },
      "source": [
        "df.head()"
      ],
      "execution_count": null,
      "outputs": [
        {
          "output_type": "execute_result",
          "data": {
            "text/html": [
              "<div>\n",
              "<style scoped>\n",
              "    .dataframe tbody tr th:only-of-type {\n",
              "        vertical-align: middle;\n",
              "    }\n",
              "\n",
              "    .dataframe tbody tr th {\n",
              "        vertical-align: top;\n",
              "    }\n",
              "\n",
              "    .dataframe thead th {\n",
              "        text-align: right;\n",
              "    }\n",
              "</style>\n",
              "<table border=\"1\" class=\"dataframe\">\n",
              "  <thead>\n",
              "    <tr style=\"text-align: right;\">\n",
              "      <th></th>\n",
              "      <th>IDENTIF</th>\n",
              "      <th>RIVER</th>\n",
              "      <th>LOCATION</th>\n",
              "      <th>ERECTED</th>\n",
              "      <th>PURPOSE</th>\n",
              "      <th>LENGTH</th>\n",
              "      <th>LANES</th>\n",
              "      <th>CLEAR-G</th>\n",
              "      <th>T-OR-D</th>\n",
              "      <th>MATERIAL</th>\n",
              "      <th>SPAN</th>\n",
              "      <th>REL-L</th>\n",
              "      <th>TYPE</th>\n",
              "    </tr>\n",
              "  </thead>\n",
              "  <tbody>\n",
              "    <tr>\n",
              "      <th>0</th>\n",
              "      <td>E1</td>\n",
              "      <td>2</td>\n",
              "      <td>3</td>\n",
              "      <td>1818</td>\n",
              "      <td>2</td>\n",
              "      <td>1800</td>\n",
              "      <td>2</td>\n",
              "      <td>2</td>\n",
              "      <td>2</td>\n",
              "      <td>3</td>\n",
              "      <td>2</td>\n",
              "      <td>1</td>\n",
              "      <td>WOOD</td>\n",
              "    </tr>\n",
              "    <tr>\n",
              "      <th>1</th>\n",
              "      <td>E2</td>\n",
              "      <td>1</td>\n",
              "      <td>25</td>\n",
              "      <td>1819</td>\n",
              "      <td>2</td>\n",
              "      <td>1037</td>\n",
              "      <td>2</td>\n",
              "      <td>2</td>\n",
              "      <td>2</td>\n",
              "      <td>3</td>\n",
              "      <td>2</td>\n",
              "      <td>1</td>\n",
              "      <td>WOOD</td>\n",
              "    </tr>\n",
              "    <tr>\n",
              "      <th>2</th>\n",
              "      <td>E3</td>\n",
              "      <td>1</td>\n",
              "      <td>39</td>\n",
              "      <td>1829</td>\n",
              "      <td>1</td>\n",
              "      <td>1800</td>\n",
              "      <td>1</td>\n",
              "      <td>2</td>\n",
              "      <td>2</td>\n",
              "      <td>3</td>\n",
              "      <td>2</td>\n",
              "      <td>1</td>\n",
              "      <td>WOOD</td>\n",
              "    </tr>\n",
              "    <tr>\n",
              "      <th>3</th>\n",
              "      <td>E5</td>\n",
              "      <td>1</td>\n",
              "      <td>29</td>\n",
              "      <td>1837</td>\n",
              "      <td>2</td>\n",
              "      <td>1000</td>\n",
              "      <td>2</td>\n",
              "      <td>2</td>\n",
              "      <td>2</td>\n",
              "      <td>3</td>\n",
              "      <td>2</td>\n",
              "      <td>1</td>\n",
              "      <td>WOOD</td>\n",
              "    </tr>\n",
              "    <tr>\n",
              "      <th>4</th>\n",
              "      <td>E6</td>\n",
              "      <td>2</td>\n",
              "      <td>23</td>\n",
              "      <td>1838</td>\n",
              "      <td>2</td>\n",
              "      <td>1800</td>\n",
              "      <td>2</td>\n",
              "      <td>2</td>\n",
              "      <td>2</td>\n",
              "      <td>3</td>\n",
              "      <td>2</td>\n",
              "      <td>1</td>\n",
              "      <td>WOOD</td>\n",
              "    </tr>\n",
              "  </tbody>\n",
              "</table>\n",
              "</div>"
            ],
            "text/plain": [
              "  IDENTIF  RIVER LOCATION  ERECTED  ...  MATERIAL SPAN REL-L  TYPE\n",
              "0      E1      2        3     1818  ...         3    2     1  WOOD\n",
              "1      E2      1       25     1819  ...         3    2     1  WOOD\n",
              "2      E3      1       39     1829  ...         3    2     1  WOOD\n",
              "3      E5      1       29     1837  ...         3    2     1  WOOD\n",
              "4      E6      2       23     1838  ...         3    2     1  WOOD\n",
              "\n",
              "[5 rows x 13 columns]"
            ]
          },
          "metadata": {
            "tags": []
          },
          "execution_count": 11
        }
      ]
    },
    {
      "cell_type": "code",
      "metadata": {
        "id": "NoGpC5gRGXmJ",
        "colab_type": "code",
        "colab": {}
      },
      "source": [
        "df['LENGTH'] = df['LENGTH'].astype('int')"
      ],
      "execution_count": null,
      "outputs": []
    },
    {
      "cell_type": "code",
      "metadata": {
        "id": "30aMfnbGIb6C",
        "colab_type": "code",
        "colab": {
          "base_uri": "https://localhost:8080/",
          "height": 269
        },
        "outputId": "9898dc9d-0ec9-4aa6-f297-bdd95fdda5af"
      },
      "source": [
        "sns.boxplot(None,df['LENGTH'])"
      ],
      "execution_count": null,
      "outputs": [
        {
          "output_type": "execute_result",
          "data": {
            "text/plain": [
              "<matplotlib.axes._subplots.AxesSubplot at 0x7fe935f3f710>"
            ]
          },
          "metadata": {
            "tags": []
          },
          "execution_count": 13
        },
        {
          "output_type": "display_data",
          "data": {
            "image/png": "[encoded data removed]",
            "text/plain": [
              "<Figure size 432x288 with 1 Axes>"
            ]
          },
          "metadata": {
            "tags": [],
            "needs_background": "light"
          }
        }
      ]
    },
    {
      "cell_type": "code",
      "metadata": {
        "id": "Hk_pzjVZHmsn",
        "colab_type": "code",
        "colab": {}
      },
      "source": [
        "df['LENGTH'] = LE.fit_transform(df['LENGTH'])"
      ],
      "execution_count": null,
      "outputs": []
    },
    {
      "cell_type": "code",
      "metadata": {
        "id": "C5nYlnHzK2Zx",
        "colab_type": "code",
        "colab": {
          "base_uri": "https://localhost:8080/",
          "height": 269
        },
        "outputId": "2d0b927a-1a79-4003-f902-daa45bca669b"
      },
      "source": [
        "sns.boxplot(None,df['LENGTH'])"
      ],
      "execution_count": null,
      "outputs": [
        {
          "output_type": "execute_result",
          "data": {
            "text/plain": [
              "<matplotlib.axes._subplots.AxesSubplot at 0x7fe933ef29b0>"
            ]
          },
          "metadata": {
            "tags": []
          },
          "execution_count": 15
        },
        {
          "output_type": "display_data",
          "data": {
            "image/png": "[encoded data removed]",
            "text/plain": [
              "<Figure size 432x288 with 1 Axes>"
            ]
          },
          "metadata": {
            "tags": [],
            "needs_background": "light"
          }
        }
      ]
    },
    {
      "cell_type": "code",
      "metadata": {
        "id": "W5vKfL_uK6OA",
        "colab_type": "code",
        "colab": {
          "base_uri": "https://localhost:8080/",
          "height": 314
        },
        "outputId": "75e5a53b-eb9a-4e10-b313-a2deb70e8837"
      },
      "source": [
        "corr = df.corr(method='pearson')\n",
        "corr"
      ],
      "execution_count": null,
      "outputs": [
        {
          "output_type": "execute_result",
          "data": {
            "text/html": [
              "<div>\n",
              "<style scoped>\n",
              "    .dataframe tbody tr th:only-of-type {\n",
              "        vertical-align: middle;\n",
              "    }\n",
              "\n",
              "    .dataframe tbody tr th {\n",
              "        vertical-align: top;\n",
              "    }\n",
              "\n",
              "    .dataframe thead th {\n",
              "        text-align: right;\n",
              "    }\n",
              "</style>\n",
              "<table border=\"1\" class=\"dataframe\">\n",
              "  <thead>\n",
              "    <tr style=\"text-align: right;\">\n",
              "      <th></th>\n",
              "      <th>RIVER</th>\n",
              "      <th>ERECTED</th>\n",
              "      <th>PURPOSE</th>\n",
              "      <th>LENGTH</th>\n",
              "      <th>CLEAR-G</th>\n",
              "      <th>T-OR-D</th>\n",
              "      <th>MATERIAL</th>\n",
              "      <th>SPAN</th>\n",
              "      <th>REL-L</th>\n",
              "    </tr>\n",
              "  </thead>\n",
              "  <tbody>\n",
              "    <tr>\n",
              "      <th>RIVER</th>\n",
              "      <td>1.000000</td>\n",
              "      <td>0.266692</td>\n",
              "      <td>0.098511</td>\n",
              "      <td>0.233016</td>\n",
              "      <td>-0.266095</td>\n",
              "      <td>0.075553</td>\n",
              "      <td>-0.207259</td>\n",
              "      <td>-0.309919</td>\n",
              "      <td>-0.216447</td>\n",
              "    </tr>\n",
              "    <tr>\n",
              "      <th>ERECTED</th>\n",
              "      <td>0.266692</td>\n",
              "      <td>1.000000</td>\n",
              "      <td>-0.004040</td>\n",
              "      <td>0.033941</td>\n",
              "      <td>-0.561629</td>\n",
              "      <td>-0.207657</td>\n",
              "      <td>-0.270111</td>\n",
              "      <td>-0.556355</td>\n",
              "      <td>-0.185383</td>\n",
              "    </tr>\n",
              "    <tr>\n",
              "      <th>PURPOSE</th>\n",
              "      <td>0.098511</td>\n",
              "      <td>-0.004040</td>\n",
              "      <td>1.000000</td>\n",
              "      <td>0.205181</td>\n",
              "      <td>-0.227281</td>\n",
              "      <td>0.045185</td>\n",
              "      <td>-0.152123</td>\n",
              "      <td>0.005250</td>\n",
              "      <td>-0.007524</td>\n",
              "    </tr>\n",
              "    <tr>\n",
              "      <th>LENGTH</th>\n",
              "      <td>0.233016</td>\n",
              "      <td>0.033941</td>\n",
              "      <td>0.205181</td>\n",
              "      <td>1.000000</td>\n",
              "      <td>-0.073468</td>\n",
              "      <td>-0.299111</td>\n",
              "      <td>-0.057024</td>\n",
              "      <td>-0.108587</td>\n",
              "      <td>-0.270257</td>\n",
              "    </tr>\n",
              "    <tr>\n",
              "      <th>CLEAR-G</th>\n",
              "      <td>-0.266095</td>\n",
              "      <td>-0.561629</td>\n",
              "      <td>-0.227281</td>\n",
              "      <td>-0.073468</td>\n",
              "      <td>1.000000</td>\n",
              "      <td>-0.125716</td>\n",
              "      <td>0.327053</td>\n",
              "      <td>0.342732</td>\n",
              "      <td>0.314276</td>\n",
              "    </tr>\n",
              "    <tr>\n",
              "      <th>T-OR-D</th>\n",
              "      <td>0.075553</td>\n",
              "      <td>-0.207657</td>\n",
              "      <td>0.045185</td>\n",
              "      <td>-0.299111</td>\n",
              "      <td>-0.125716</td>\n",
              "      <td>1.000000</td>\n",
              "      <td>-0.057205</td>\n",
              "      <td>0.022705</td>\n",
              "      <td>-0.195224</td>\n",
              "    </tr>\n",
              "    <tr>\n",
              "      <th>MATERIAL</th>\n",
              "      <td>-0.207259</td>\n",
              "      <td>-0.270111</td>\n",
              "      <td>-0.152123</td>\n",
              "      <td>-0.057024</td>\n",
              "      <td>0.327053</td>\n",
              "      <td>-0.057205</td>\n",
              "      <td>1.000000</td>\n",
              "      <td>0.172062</td>\n",
              "      <td>0.089063</td>\n",
              "    </tr>\n",
              "    <tr>\n",
              "      <th>SPAN</th>\n",
              "      <td>-0.309919</td>\n",
              "      <td>-0.556355</td>\n",
              "      <td>0.005250</td>\n",
              "      <td>-0.108587</td>\n",
              "      <td>0.342732</td>\n",
              "      <td>0.022705</td>\n",
              "      <td>0.172062</td>\n",
              "      <td>1.000000</td>\n",
              "      <td>0.373939</td>\n",
              "    </tr>\n",
              "    <tr>\n",
              "      <th>REL-L</th>\n",
              "      <td>-0.216447</td>\n",
              "      <td>-0.185383</td>\n",
              "      <td>-0.007524</td>\n",
              "      <td>-0.270257</td>\n",
              "      <td>0.314276</td>\n",
              "      <td>-0.195224</td>\n",
              "      <td>0.089063</td>\n",
              "      <td>0.373939</td>\n",
              "      <td>1.000000</td>\n",
              "    </tr>\n",
              "  </tbody>\n",
              "</table>\n",
              "</div>"
            ],
            "text/plain": [
              "             RIVER   ERECTED   PURPOSE  ...  MATERIAL      SPAN     REL-L\n",
              "RIVER     1.000000  0.266692  0.098511  ... -0.207259 -0.309919 -0.216447\n",
              "ERECTED   0.266692  1.000000 -0.004040  ... -0.270111 -0.556355 -0.185383\n",
              "PURPOSE   0.098511 -0.004040  1.000000  ... -0.152123  0.005250 -0.007524\n",
              "LENGTH    0.233016  0.033941  0.205181  ... -0.057024 -0.108587 -0.270257\n",
              "CLEAR-G  -0.266095 -0.561629 -0.227281  ...  0.327053  0.342732  0.314276\n",
              "T-OR-D    0.075553 -0.207657  0.045185  ... -0.057205  0.022705 -0.195224\n",
              "MATERIAL -0.207259 -0.270111 -0.152123  ...  1.000000  0.172062  0.089063\n",
              "SPAN     -0.309919 -0.556355  0.005250  ...  0.172062  1.000000  0.373939\n",
              "REL-L    -0.216447 -0.185383 -0.007524  ...  0.089063  0.373939  1.000000\n",
              "\n",
              "[9 rows x 9 columns]"
            ]
          },
          "metadata": {
            "tags": []
          },
          "execution_count": 16
        }
      ]
    },
    {
      "cell_type": "code",
      "metadata": {
        "id": "1-JnhdIfMGVg",
        "colab_type": "code",
        "colab": {}
      },
      "source": [
        "copy = df.copy()"
      ],
      "execution_count": null,
      "outputs": []
    },
    {
      "cell_type": "code",
      "metadata": {
        "id": "GOT1fAUEODat",
        "colab_type": "code",
        "colab": {}
      },
      "source": [
        "copy['TYPE'] = LE.fit_transform(copy['TYPE'])"
      ],
      "execution_count": null,
      "outputs": []
    },
    {
      "cell_type": "code",
      "metadata": {
        "id": "id5_OMSnOMTk",
        "colab_type": "code",
        "colab": {
          "base_uri": "https://localhost:8080/",
          "height": 195
        },
        "outputId": "8d108ee3-c507-4a46-f294-6789e31cfee1"
      },
      "source": [
        "copy.head()"
      ],
      "execution_count": null,
      "outputs": [
        {
          "output_type": "execute_result",
          "data": {
            "text/html": [
              "<div>\n",
              "<style scoped>\n",
              "    .dataframe tbody tr th:only-of-type {\n",
              "        vertical-align: middle;\n",
              "    }\n",
              "\n",
              "    .dataframe tbody tr th {\n",
              "        vertical-align: top;\n",
              "    }\n",
              "\n",
              "    .dataframe thead th {\n",
              "        text-align: right;\n",
              "    }\n",
              "</style>\n",
              "<table border=\"1\" class=\"dataframe\">\n",
              "  <thead>\n",
              "    <tr style=\"text-align: right;\">\n",
              "      <th></th>\n",
              "      <th>IDENTIF</th>\n",
              "      <th>RIVER</th>\n",
              "      <th>LOCATION</th>\n",
              "      <th>ERECTED</th>\n",
              "      <th>PURPOSE</th>\n",
              "      <th>LENGTH</th>\n",
              "      <th>LANES</th>\n",
              "      <th>CLEAR-G</th>\n",
              "      <th>T-OR-D</th>\n",
              "      <th>MATERIAL</th>\n",
              "      <th>SPAN</th>\n",
              "      <th>REL-L</th>\n",
              "      <th>TYPE</th>\n",
              "    </tr>\n",
              "  </thead>\n",
              "  <tbody>\n",
              "    <tr>\n",
              "      <th>0</th>\n",
              "      <td>E1</td>\n",
              "      <td>2</td>\n",
              "      <td>3</td>\n",
              "      <td>1818</td>\n",
              "      <td>2</td>\n",
              "      <td>43</td>\n",
              "      <td>2</td>\n",
              "      <td>2</td>\n",
              "      <td>2</td>\n",
              "      <td>3</td>\n",
              "      <td>2</td>\n",
              "      <td>1</td>\n",
              "      <td>5</td>\n",
              "    </tr>\n",
              "    <tr>\n",
              "      <th>1</th>\n",
              "      <td>E2</td>\n",
              "      <td>1</td>\n",
              "      <td>25</td>\n",
              "      <td>1819</td>\n",
              "      <td>2</td>\n",
              "      <td>14</td>\n",
              "      <td>2</td>\n",
              "      <td>2</td>\n",
              "      <td>2</td>\n",
              "      <td>3</td>\n",
              "      <td>2</td>\n",
              "      <td>1</td>\n",
              "      <td>5</td>\n",
              "    </tr>\n",
              "    <tr>\n",
              "      <th>2</th>\n",
              "      <td>E3</td>\n",
              "      <td>1</td>\n",
              "      <td>39</td>\n",
              "      <td>1829</td>\n",
              "      <td>1</td>\n",
              "      <td>43</td>\n",
              "      <td>1</td>\n",
              "      <td>2</td>\n",
              "      <td>2</td>\n",
              "      <td>3</td>\n",
              "      <td>2</td>\n",
              "      <td>1</td>\n",
              "      <td>5</td>\n",
              "    </tr>\n",
              "    <tr>\n",
              "      <th>3</th>\n",
              "      <td>E5</td>\n",
              "      <td>1</td>\n",
              "      <td>29</td>\n",
              "      <td>1837</td>\n",
              "      <td>2</td>\n",
              "      <td>11</td>\n",
              "      <td>2</td>\n",
              "      <td>2</td>\n",
              "      <td>2</td>\n",
              "      <td>3</td>\n",
              "      <td>2</td>\n",
              "      <td>1</td>\n",
              "      <td>5</td>\n",
              "    </tr>\n",
              "    <tr>\n",
              "      <th>4</th>\n",
              "      <td>E6</td>\n",
              "      <td>2</td>\n",
              "      <td>23</td>\n",
              "      <td>1838</td>\n",
              "      <td>2</td>\n",
              "      <td>43</td>\n",
              "      <td>2</td>\n",
              "      <td>2</td>\n",
              "      <td>2</td>\n",
              "      <td>3</td>\n",
              "      <td>2</td>\n",
              "      <td>1</td>\n",
              "      <td>5</td>\n",
              "    </tr>\n",
              "  </tbody>\n",
              "</table>\n",
              "</div>"
            ],
            "text/plain": [
              "  IDENTIF  RIVER LOCATION  ERECTED  ...  MATERIAL  SPAN REL-L  TYPE\n",
              "0      E1      2        3     1818  ...         3     2     1     5\n",
              "1      E2      1       25     1819  ...         3     2     1     5\n",
              "2      E3      1       39     1829  ...         3     2     1     5\n",
              "3      E5      1       29     1837  ...         3     2     1     5\n",
              "4      E6      2       23     1838  ...         3     2     1     5\n",
              "\n",
              "[5 rows x 13 columns]"
            ]
          },
          "metadata": {
            "tags": []
          },
          "execution_count": 19
        }
      ]
    },
    {
      "cell_type": "code",
      "metadata": {
        "id": "51XMzXB7OOTQ",
        "colab_type": "code",
        "colab": {}
      },
      "source": [
        "corr = copy.corr(method='pearson')"
      ],
      "execution_count": null,
      "outputs": []
    },
    {
      "cell_type": "code",
      "metadata": {
        "id": "63mobeagOT4T",
        "colab_type": "code",
        "colab": {
          "base_uri": "https://localhost:8080/",
          "height": 343
        },
        "outputId": "f4974937-f7ec-40c6-d2c1-53a3c94d8194"
      },
      "source": [
        "corr"
      ],
      "execution_count": null,
      "outputs": [
        {
          "output_type": "execute_result",
          "data": {
            "text/html": [
              "<div>\n",
              "<style scoped>\n",
              "    .dataframe tbody tr th:only-of-type {\n",
              "        vertical-align: middle;\n",
              "    }\n",
              "\n",
              "    .dataframe tbody tr th {\n",
              "        vertical-align: top;\n",
              "    }\n",
              "\n",
              "    .dataframe thead th {\n",
              "        text-align: right;\n",
              "    }\n",
              "</style>\n",
              "<table border=\"1\" class=\"dataframe\">\n",
              "  <thead>\n",
              "    <tr style=\"text-align: right;\">\n",
              "      <th></th>\n",
              "      <th>RIVER</th>\n",
              "      <th>ERECTED</th>\n",
              "      <th>PURPOSE</th>\n",
              "      <th>LENGTH</th>\n",
              "      <th>CLEAR-G</th>\n",
              "      <th>T-OR-D</th>\n",
              "      <th>MATERIAL</th>\n",
              "      <th>SPAN</th>\n",
              "      <th>REL-L</th>\n",
              "      <th>TYPE</th>\n",
              "    </tr>\n",
              "  </thead>\n",
              "  <tbody>\n",
              "    <tr>\n",
              "      <th>RIVER</th>\n",
              "      <td>1.000000</td>\n",
              "      <td>0.266692</td>\n",
              "      <td>0.098511</td>\n",
              "      <td>0.233016</td>\n",
              "      <td>-0.266095</td>\n",
              "      <td>0.075553</td>\n",
              "      <td>-0.207259</td>\n",
              "      <td>-0.309919</td>\n",
              "      <td>-0.216447</td>\n",
              "      <td>-0.312285</td>\n",
              "    </tr>\n",
              "    <tr>\n",
              "      <th>ERECTED</th>\n",
              "      <td>0.266692</td>\n",
              "      <td>1.000000</td>\n",
              "      <td>-0.004040</td>\n",
              "      <td>0.033941</td>\n",
              "      <td>-0.561629</td>\n",
              "      <td>-0.207657</td>\n",
              "      <td>-0.270111</td>\n",
              "      <td>-0.556355</td>\n",
              "      <td>-0.185383</td>\n",
              "      <td>-0.701452</td>\n",
              "    </tr>\n",
              "    <tr>\n",
              "      <th>PURPOSE</th>\n",
              "      <td>0.098511</td>\n",
              "      <td>-0.004040</td>\n",
              "      <td>1.000000</td>\n",
              "      <td>0.205181</td>\n",
              "      <td>-0.227281</td>\n",
              "      <td>0.045185</td>\n",
              "      <td>-0.152123</td>\n",
              "      <td>0.005250</td>\n",
              "      <td>-0.007524</td>\n",
              "      <td>0.020160</td>\n",
              "    </tr>\n",
              "    <tr>\n",
              "      <th>LENGTH</th>\n",
              "      <td>0.233016</td>\n",
              "      <td>0.033941</td>\n",
              "      <td>0.205181</td>\n",
              "      <td>1.000000</td>\n",
              "      <td>-0.073468</td>\n",
              "      <td>-0.299111</td>\n",
              "      <td>-0.057024</td>\n",
              "      <td>-0.108587</td>\n",
              "      <td>-0.270257</td>\n",
              "      <td>-0.120665</td>\n",
              "    </tr>\n",
              "    <tr>\n",
              "      <th>CLEAR-G</th>\n",
              "      <td>-0.266095</td>\n",
              "      <td>-0.561629</td>\n",
              "      <td>-0.227281</td>\n",
              "      <td>-0.073468</td>\n",
              "      <td>1.000000</td>\n",
              "      <td>-0.125716</td>\n",
              "      <td>0.327053</td>\n",
              "      <td>0.342732</td>\n",
              "      <td>0.314276</td>\n",
              "      <td>0.463910</td>\n",
              "    </tr>\n",
              "    <tr>\n",
              "      <th>T-OR-D</th>\n",
              "      <td>0.075553</td>\n",
              "      <td>-0.207657</td>\n",
              "      <td>0.045185</td>\n",
              "      <td>-0.299111</td>\n",
              "      <td>-0.125716</td>\n",
              "      <td>1.000000</td>\n",
              "      <td>-0.057205</td>\n",
              "      <td>0.022705</td>\n",
              "      <td>-0.195224</td>\n",
              "      <td>0.137480</td>\n",
              "    </tr>\n",
              "    <tr>\n",
              "      <th>MATERIAL</th>\n",
              "      <td>-0.207259</td>\n",
              "      <td>-0.270111</td>\n",
              "      <td>-0.152123</td>\n",
              "      <td>-0.057024</td>\n",
              "      <td>0.327053</td>\n",
              "      <td>-0.057205</td>\n",
              "      <td>1.000000</td>\n",
              "      <td>0.172062</td>\n",
              "      <td>0.089063</td>\n",
              "      <td>0.379653</td>\n",
              "    </tr>\n",
              "    <tr>\n",
              "      <th>SPAN</th>\n",
              "      <td>-0.309919</td>\n",
              "      <td>-0.556355</td>\n",
              "      <td>0.005250</td>\n",
              "      <td>-0.108587</td>\n",
              "      <td>0.342732</td>\n",
              "      <td>0.022705</td>\n",
              "      <td>0.172062</td>\n",
              "      <td>1.000000</td>\n",
              "      <td>0.373939</td>\n",
              "      <td>0.522652</td>\n",
              "    </tr>\n",
              "    <tr>\n",
              "      <th>REL-L</th>\n",
              "      <td>-0.216447</td>\n",
              "      <td>-0.185383</td>\n",
              "      <td>-0.007524</td>\n",
              "      <td>-0.270257</td>\n",
              "      <td>0.314276</td>\n",
              "      <td>-0.195224</td>\n",
              "      <td>0.089063</td>\n",
              "      <td>0.373939</td>\n",
              "      <td>1.000000</td>\n",
              "      <td>0.249503</td>\n",
              "    </tr>\n",
              "    <tr>\n",
              "      <th>TYPE</th>\n",
              "      <td>-0.312285</td>\n",
              "      <td>-0.701452</td>\n",
              "      <td>0.020160</td>\n",
              "      <td>-0.120665</td>\n",
              "      <td>0.463910</td>\n",
              "      <td>0.137480</td>\n",
              "      <td>0.379653</td>\n",
              "      <td>0.522652</td>\n",
              "      <td>0.249503</td>\n",
              "      <td>1.000000</td>\n",
              "    </tr>\n",
              "  </tbody>\n",
              "</table>\n",
              "</div>"
            ],
            "text/plain": [
              "             RIVER   ERECTED   PURPOSE  ...      SPAN     REL-L      TYPE\n",
              "RIVER     1.000000  0.266692  0.098511  ... -0.309919 -0.216447 -0.312285\n",
              "ERECTED   0.266692  1.000000 -0.004040  ... -0.556355 -0.185383 -0.701452\n",
              "PURPOSE   0.098511 -0.004040  1.000000  ...  0.005250 -0.007524  0.020160\n",
              "LENGTH    0.233016  0.033941  0.205181  ... -0.108587 -0.270257 -0.120665\n",
              "CLEAR-G  -0.266095 -0.561629 -0.227281  ...  0.342732  0.314276  0.463910\n",
              "T-OR-D    0.075553 -0.207657  0.045185  ...  0.022705 -0.195224  0.137480\n",
              "MATERIAL -0.207259 -0.270111 -0.152123  ...  0.172062  0.089063  0.379653\n",
              "SPAN     -0.309919 -0.556355  0.005250  ...  1.000000  0.373939  0.522652\n",
              "REL-L    -0.216447 -0.185383 -0.007524  ...  0.373939  1.000000  0.249503\n",
              "TYPE     -0.312285 -0.701452  0.020160  ...  0.522652  0.249503  1.000000\n",
              "\n",
              "[10 rows x 10 columns]"
            ]
          },
          "metadata": {
            "tags": []
          },
          "execution_count": 21
        }
      ]
    },
    {
      "cell_type": "code",
      "metadata": {
        "id": "3WFhmw5fOVJS",
        "colab_type": "code",
        "colab": {
          "base_uri": "https://localhost:8080/",
          "height": 185
        },
        "outputId": "2c6e5c4a-76ce-42a9-f8d4-fd3a168e92e2"
      },
      "source": [
        "corr['TYPE'][:-1]"
      ],
      "execution_count": null,
      "outputs": [
        {
          "output_type": "execute_result",
          "data": {
            "text/plain": [
              "RIVER      -0.312285\n",
              "ERECTED    -0.701452\n",
              "PURPOSE     0.020160\n",
              "LENGTH     -0.120665\n",
              "CLEAR-G     0.463910\n",
              "T-OR-D      0.137480\n",
              "MATERIAL    0.379653\n",
              "SPAN        0.522652\n",
              "REL-L       0.249503\n",
              "Name: TYPE, dtype: float64"
            ]
          },
          "metadata": {
            "tags": []
          },
          "execution_count": 22
        }
      ]
    },
    {
      "cell_type": "code",
      "metadata": {
        "id": "HZVnxBLoOgmr",
        "colab_type": "code",
        "colab": {
          "base_uri": "https://localhost:8080/",
          "height": 325
        },
        "outputId": "55694bb3-bc00-41a8-f129-f071e903698d"
      },
      "source": [
        "sns.heatmap(corr)"
      ],
      "execution_count": null,
      "outputs": [
        {
          "output_type": "execute_result",
          "data": {
            "text/plain": [
              "<matplotlib.axes._subplots.AxesSubplot at 0x7fe9339ec390>"
            ]
          },
          "metadata": {
            "tags": []
          },
          "execution_count": 23
        },
        {
          "output_type": "display_data",
          "data": {
            "image/png": "[encoded data removed]",
            "text/plain": [
              "<Figure size 432x288 with 2 Axes>"
            ]
          },
          "metadata": {
            "tags": [],
            "needs_background": "light"
          }
        }
      ]
    },
    {
      "cell_type": "code",
      "metadata": {
        "id": "3UWB9ujlO22u",
        "colab_type": "code",
        "colab": {}
      },
      "source": [
        "df['LENGTH/SPAN'] = df['LENGTH']/df['SPAN']"
      ],
      "execution_count": null,
      "outputs": []
    },
    {
      "cell_type": "code",
      "metadata": {
        "id": "mEgbJOOkQDq1",
        "colab_type": "code",
        "colab": {
          "base_uri": "https://localhost:8080/",
          "height": 195
        },
        "outputId": "6648e9a6-cf59-43e8-f101-53cd0fcbd805"
      },
      "source": [
        "df.head()"
      ],
      "execution_count": null,
      "outputs": [
        {
          "output_type": "execute_result",
          "data": {
            "text/html": [
              "<div>\n",
              "<style scoped>\n",
              "    .dataframe tbody tr th:only-of-type {\n",
              "        vertical-align: middle;\n",
              "    }\n",
              "\n",
              "    .dataframe tbody tr th {\n",
              "        vertical-align: top;\n",
              "    }\n",
              "\n",
              "    .dataframe thead th {\n",
              "        text-align: right;\n",
              "    }\n",
              "</style>\n",
              "<table border=\"1\" class=\"dataframe\">\n",
              "  <thead>\n",
              "    <tr style=\"text-align: right;\">\n",
              "      <th></th>\n",
              "      <th>IDENTIF</th>\n",
              "      <th>RIVER</th>\n",
              "      <th>LOCATION</th>\n",
              "      <th>ERECTED</th>\n",
              "      <th>PURPOSE</th>\n",
              "      <th>LENGTH</th>\n",
              "      <th>LANES</th>\n",
              "      <th>CLEAR-G</th>\n",
              "      <th>T-OR-D</th>\n",
              "      <th>MATERIAL</th>\n",
              "      <th>SPAN</th>\n",
              "      <th>REL-L</th>\n",
              "      <th>TYPE</th>\n",
              "      <th>LENGTH/SPAN</th>\n",
              "    </tr>\n",
              "  </thead>\n",
              "  <tbody>\n",
              "    <tr>\n",
              "      <th>0</th>\n",
              "      <td>E1</td>\n",
              "      <td>2</td>\n",
              "      <td>3</td>\n",
              "      <td>1818</td>\n",
              "      <td>2</td>\n",
              "      <td>43</td>\n",
              "      <td>2</td>\n",
              "      <td>2</td>\n",
              "      <td>2</td>\n",
              "      <td>3</td>\n",
              "      <td>2</td>\n",
              "      <td>1</td>\n",
              "      <td>WOOD</td>\n",
              "      <td>21.5</td>\n",
              "    </tr>\n",
              "    <tr>\n",
              "      <th>1</th>\n",
              "      <td>E2</td>\n",
              "      <td>1</td>\n",
              "      <td>25</td>\n",
              "      <td>1819</td>\n",
              "      <td>2</td>\n",
              "      <td>14</td>\n",
              "      <td>2</td>\n",
              "      <td>2</td>\n",
              "      <td>2</td>\n",
              "      <td>3</td>\n",
              "      <td>2</td>\n",
              "      <td>1</td>\n",
              "      <td>WOOD</td>\n",
              "      <td>7.0</td>\n",
              "    </tr>\n",
              "    <tr>\n",
              "      <th>2</th>\n",
              "      <td>E3</td>\n",
              "      <td>1</td>\n",
              "      <td>39</td>\n",
              "      <td>1829</td>\n",
              "      <td>1</td>\n",
              "      <td>43</td>\n",
              "      <td>1</td>\n",
              "      <td>2</td>\n",
              "      <td>2</td>\n",
              "      <td>3</td>\n",
              "      <td>2</td>\n",
              "      <td>1</td>\n",
              "      <td>WOOD</td>\n",
              "      <td>21.5</td>\n",
              "    </tr>\n",
              "    <tr>\n",
              "      <th>3</th>\n",
              "      <td>E5</td>\n",
              "      <td>1</td>\n",
              "      <td>29</td>\n",
              "      <td>1837</td>\n",
              "      <td>2</td>\n",
              "      <td>11</td>\n",
              "      <td>2</td>\n",
              "      <td>2</td>\n",
              "      <td>2</td>\n",
              "      <td>3</td>\n",
              "      <td>2</td>\n",
              "      <td>1</td>\n",
              "      <td>WOOD</td>\n",
              "      <td>5.5</td>\n",
              "    </tr>\n",
              "    <tr>\n",
              "      <th>4</th>\n",
              "      <td>E6</td>\n",
              "      <td>2</td>\n",
              "      <td>23</td>\n",
              "      <td>1838</td>\n",
              "      <td>2</td>\n",
              "      <td>43</td>\n",
              "      <td>2</td>\n",
              "      <td>2</td>\n",
              "      <td>2</td>\n",
              "      <td>3</td>\n",
              "      <td>2</td>\n",
              "      <td>1</td>\n",
              "      <td>WOOD</td>\n",
              "      <td>21.5</td>\n",
              "    </tr>\n",
              "  </tbody>\n",
              "</table>\n",
              "</div>"
            ],
            "text/plain": [
              "  IDENTIF  RIVER LOCATION  ERECTED  ...  SPAN  REL-L  TYPE  LENGTH/SPAN\n",
              "0      E1      2        3     1818  ...     2      1  WOOD         21.5\n",
              "1      E2      1       25     1819  ...     2      1  WOOD          7.0\n",
              "2      E3      1       39     1829  ...     2      1  WOOD         21.5\n",
              "3      E5      1       29     1837  ...     2      1  WOOD          5.5\n",
              "4      E6      2       23     1838  ...     2      1  WOOD         21.5\n",
              "\n",
              "[5 rows x 14 columns]"
            ]
          },
          "metadata": {
            "tags": []
          },
          "execution_count": 25
        }
      ]
    },
    {
      "cell_type": "code",
      "metadata": {
        "id": "R9YRDBfjQGPq",
        "colab_type": "code",
        "colab": {}
      },
      "source": [
        "df['SPAN PER PURPOSE'] = df['PURPOSE']/ df['SPAN']"
      ],
      "execution_count": null,
      "outputs": []
    },
    {
      "cell_type": "code",
      "metadata": {
        "id": "nVSBuMVAQqZE",
        "colab_type": "code",
        "colab": {
          "base_uri": "https://localhost:8080/",
          "height": 195
        },
        "outputId": "147d391b-a400-4ac5-d19f-39943ebb8108"
      },
      "source": [
        "df.head()"
      ],
      "execution_count": null,
      "outputs": [
        {
          "output_type": "execute_result",
          "data": {
            "text/html": [
              "<div>\n",
              "<style scoped>\n",
              "    .dataframe tbody tr th:only-of-type {\n",
              "        vertical-align: middle;\n",
              "    }\n",
              "\n",
              "    .dataframe tbody tr th {\n",
              "        vertical-align: top;\n",
              "    }\n",
              "\n",
              "    .dataframe thead th {\n",
              "        text-align: right;\n",
              "    }\n",
              "</style>\n",
              "<table border=\"1\" class=\"dataframe\">\n",
              "  <thead>\n",
              "    <tr style=\"text-align: right;\">\n",
              "      <th></th>\n",
              "      <th>IDENTIF</th>\n",
              "      <th>RIVER</th>\n",
              "      <th>LOCATION</th>\n",
              "      <th>ERECTED</th>\n",
              "      <th>PURPOSE</th>\n",
              "      <th>LENGTH</th>\n",
              "      <th>LANES</th>\n",
              "      <th>CLEAR-G</th>\n",
              "      <th>T-OR-D</th>\n",
              "      <th>MATERIAL</th>\n",
              "      <th>SPAN</th>\n",
              "      <th>REL-L</th>\n",
              "      <th>TYPE</th>\n",
              "      <th>LENGTH/SPAN</th>\n",
              "      <th>SPAN PER PURPOSE</th>\n",
              "    </tr>\n",
              "  </thead>\n",
              "  <tbody>\n",
              "    <tr>\n",
              "      <th>0</th>\n",
              "      <td>E1</td>\n",
              "      <td>2</td>\n",
              "      <td>3</td>\n",
              "      <td>1818</td>\n",
              "      <td>2</td>\n",
              "      <td>43</td>\n",
              "      <td>2</td>\n",
              "      <td>2</td>\n",
              "      <td>2</td>\n",
              "      <td>3</td>\n",
              "      <td>2</td>\n",
              "      <td>1</td>\n",
              "      <td>WOOD</td>\n",
              "      <td>21.5</td>\n",
              "      <td>1.0</td>\n",
              "    </tr>\n",
              "    <tr>\n",
              "      <th>1</th>\n",
              "      <td>E2</td>\n",
              "      <td>1</td>\n",
              "      <td>25</td>\n",
              "      <td>1819</td>\n",
              "      <td>2</td>\n",
              "      <td>14</td>\n",
              "      <td>2</td>\n",
              "      <td>2</td>\n",
              "      <td>2</td>\n",
              "      <td>3</td>\n",
              "      <td>2</td>\n",
              "      <td>1</td>\n",
              "      <td>WOOD</td>\n",
              "      <td>7.0</td>\n",
              "      <td>1.0</td>\n",
              "    </tr>\n",
              "    <tr>\n",
              "      <th>2</th>\n",
              "      <td>E3</td>\n",
              "      <td>1</td>\n",
              "      <td>39</td>\n",
              "      <td>1829</td>\n",
              "      <td>1</td>\n",
              "      <td>43</td>\n",
              "      <td>1</td>\n",
              "      <td>2</td>\n",
              "      <td>2</td>\n",
              "      <td>3</td>\n",
              "      <td>2</td>\n",
              "      <td>1</td>\n",
              "      <td>WOOD</td>\n",
              "      <td>21.5</td>\n",
              "      <td>0.5</td>\n",
              "    </tr>\n",
              "    <tr>\n",
              "      <th>3</th>\n",
              "      <td>E5</td>\n",
              "      <td>1</td>\n",
              "      <td>29</td>\n",
              "      <td>1837</td>\n",
              "      <td>2</td>\n",
              "      <td>11</td>\n",
              "      <td>2</td>\n",
              "      <td>2</td>\n",
              "      <td>2</td>\n",
              "      <td>3</td>\n",
              "      <td>2</td>\n",
              "      <td>1</td>\n",
              "      <td>WOOD</td>\n",
              "      <td>5.5</td>\n",
              "      <td>1.0</td>\n",
              "    </tr>\n",
              "    <tr>\n",
              "      <th>4</th>\n",
              "      <td>E6</td>\n",
              "      <td>2</td>\n",
              "      <td>23</td>\n",
              "      <td>1838</td>\n",
              "      <td>2</td>\n",
              "      <td>43</td>\n",
              "      <td>2</td>\n",
              "      <td>2</td>\n",
              "      <td>2</td>\n",
              "      <td>3</td>\n",
              "      <td>2</td>\n",
              "      <td>1</td>\n",
              "      <td>WOOD</td>\n",
              "      <td>21.5</td>\n",
              "      <td>1.0</td>\n",
              "    </tr>\n",
              "  </tbody>\n",
              "</table>\n",
              "</div>"
            ],
            "text/plain": [
              "  IDENTIF  RIVER LOCATION  ERECTED  ...  REL-L  TYPE LENGTH/SPAN  SPAN PER PURPOSE\n",
              "0      E1      2        3     1818  ...      1  WOOD        21.5               1.0\n",
              "1      E2      1       25     1819  ...      1  WOOD         7.0               1.0\n",
              "2      E3      1       39     1829  ...      1  WOOD        21.5               0.5\n",
              "3      E5      1       29     1837  ...      1  WOOD         5.5               1.0\n",
              "4      E6      2       23     1838  ...      1  WOOD        21.5               1.0\n",
              "\n",
              "[5 rows x 15 columns]"
            ]
          },
          "metadata": {
            "tags": []
          },
          "execution_count": 27
        }
      ]
    }
  ]
}