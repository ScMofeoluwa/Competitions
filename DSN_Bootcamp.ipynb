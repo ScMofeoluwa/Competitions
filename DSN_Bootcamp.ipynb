{
  "nbformat": 4,
  "nbformat_minor": 0,
  "metadata": {
    "colab": {
      "name": "DSN Bootcamp.ipynb",
      "provenance": [],
      "collapsed_sections": [],
      "mount_file_id": "1NX7b6deN-MFvlr2A5aB6moGz43YOEZ7D",
      "authorship_tag": "ABX9TyPR7Sq4HR8fCzwDQXTnRKN7"
    },
    "kernelspec": {
      "name": "python3",
      "display_name": "Python 3"
    },
    "accelerator": "GPU"
  },
  "cells": [
    {
      "cell_type": "code",
      "metadata": {
        "id": "YgCl7J6SFVv-"
      },
      "source": [
        "import numpy as np\n",
        "import pandas as pd\n",
        "from sklearn.pipeline import Pipeline\n",
        "from sklearn.compose import ColumnTransformer\n",
        "from sklearn.preprocessing import StandardScaler\n",
        "#from sklearn.impute import SimpleImputer\n",
        "from sklearn.model_selection import KFold\n",
        "from sklearn.metrics import roc_auc_score\n",
        "import warnings\n",
        "def ignore_warn(*args, **kwargs):\n",
        "    pass\n",
        "warnings.warn = ignore_warn"
      ],
      "execution_count": null,
      "outputs": []
    },
    {
      "cell_type": "code",
      "metadata": {
        "id": "o9wqYoiwFxYt",
        "outputId": "499223e9-c9eb-4fa8-a0a1-dacf96d7f688",
        "colab": {
          "base_uri": "https://localhost:8080/",
          "height": 34
        }
      },
      "source": [
        "cd drive/My Drive/"
      ],
      "execution_count": null,
      "outputs": [
        {
          "output_type": "stream",
          "text": [
            "/content/drive/My Drive\n"
          ],
          "name": "stdout"
        }
      ]
    },
    {
      "cell_type": "code",
      "metadata": {
        "id": "jh5rfao8F2_s",
        "outputId": "a03616b1-c311-448d-9e2c-c1ece8578f83",
        "colab": {
          "base_uri": "https://localhost:8080/",
          "height": 260
        }
      },
      "source": [
        "!pip install catboost"
      ],
      "execution_count": null,
      "outputs": [
        {
          "output_type": "stream",
          "text": [
            "Requirement already satisfied: catboost in /usr/local/lib/python3.6/dist-packages (0.24.1)\n",
            "Requirement already satisfied: matplotlib in /usr/local/lib/python3.6/dist-packages (from catboost) (3.2.2)\n",
            "Requirement already satisfied: pandas>=0.24.0 in /usr/local/lib/python3.6/dist-packages (from catboost) (1.1.2)\n",
            "Requirement already satisfied: six in /usr/local/lib/python3.6/dist-packages (from catboost) (1.15.0)\n",
            "Requirement already satisfied: graphviz in /usr/local/lib/python3.6/dist-packages (from catboost) (0.10.1)\n",
            "Requirement already satisfied: scipy in /usr/local/lib/python3.6/dist-packages (from catboost) (1.4.1)\n",
            "Requirement already satisfied: numpy>=1.16.0 in /usr/local/lib/python3.6/dist-packages (from catboost) (1.18.5)\n",
            "Requirement already satisfied: plotly in /usr/local/lib/python3.6/dist-packages (from catboost) (4.4.1)\n",
            "Requirement already satisfied: cycler>=0.10 in /usr/local/lib/python3.6/dist-packages (from matplotlib->catboost) (0.10.0)\n",
            "Requirement already satisfied: python-dateutil>=2.1 in /usr/local/lib/python3.6/dist-packages (from matplotlib->catboost) (2.8.1)\n",
            "Requirement already satisfied: pyparsing!=2.0.4,!=2.1.2,!=2.1.6,>=2.0.1 in /usr/local/lib/python3.6/dist-packages (from matplotlib->catboost) (2.4.7)\n",
            "Requirement already satisfied: kiwisolver>=1.0.1 in /usr/local/lib/python3.6/dist-packages (from matplotlib->catboost) (1.2.0)\n",
            "Requirement already satisfied: pytz>=2017.2 in /usr/local/lib/python3.6/dist-packages (from pandas>=0.24.0->catboost) (2018.9)\n",
            "Requirement already satisfied: retrying>=1.3.3 in /usr/local/lib/python3.6/dist-packages (from plotly->catboost) (1.3.3)\n"
          ],
          "name": "stdout"
        }
      ]
    },
    {
      "cell_type": "code",
      "metadata": {
        "id": "ZDjdg9zPF5vh"
      },
      "source": [
        "from catboost import CatBoostClassifier"
      ],
      "execution_count": null,
      "outputs": []
    },
    {
      "cell_type": "code",
      "metadata": {
        "id": "pWqa37cxF95B"
      },
      "source": [
        "res = ['form_field48','form_field49']"
      ],
      "execution_count": null,
      "outputs": []
    },
    {
      "cell_type": "code",
      "metadata": {
        "id": "sfAiW1HyGBdD"
      },
      "source": [
        "train_df = pd.read_csv('Train.csv')\n",
        "test_df = pd.read_csv('Test.csv')\n",
        "ss = pd.read_csv('SampleSubmission.csv')"
      ],
      "execution_count": null,
      "outputs": []
    },
    {
      "cell_type": "code",
      "metadata": {
        "id": "lVGVLG9KGEc7"
      },
      "source": [
        "train_df = train_df.drop(res,axis=1)\n",
        "test_df = test_df.drop(res,axis=1)"
      ],
      "execution_count": null,
      "outputs": []
    },
    {
      "cell_type": "code",
      "metadata": {
        "id": "im1uXl6tGI7z"
      },
      "source": [
        "train_df = train_df.drop('Applicant_ID',axis=1)\n",
        "test_df = test_df.drop('Applicant_ID',axis=1)"
      ],
      "execution_count": null,
      "outputs": []
    },
    {
      "cell_type": "code",
      "metadata": {
        "id": "CYPAWsirGMI6"
      },
      "source": [
        "from sklearn.preprocessing import LabelEncoder\n",
        "LE = LabelEncoder()"
      ],
      "execution_count": null,
      "outputs": []
    },
    {
      "cell_type": "code",
      "metadata": {
        "id": "B8leKnWCGR3m"
      },
      "source": [
        "train_df = train_df.fillna(-1)\n",
        "test_df = test_df.fillna(-1)\n",
        "\n",
        "train_df['default_status'] =  LE.fit_transform(train_df[['default_status']])\\\n",
        "\n",
        "test_fq = test_df.groupby('form_field47').size()/len(test_df)    \n",
        "test_df.loc[:, \"{}_freq_encode\".format('form_field47')] = test_df['form_field47'].map(test_fq)   \n",
        "test_df = test_df.drop(['form_field47'], axis = 1)\n",
        "\n",
        "train_fq = train_df.groupby('form_field47').size()/len(train_df)    \n",
        "train_df.loc[:, \"{}_freq_encode\".format('form_field47')] = train_df['form_field47'].map(train_fq)   \n",
        "train_df = train_df.drop(['form_field47'], axis = 1)"
      ],
      "execution_count": null,
      "outputs": []
    },
    {
      "cell_type": "code",
      "metadata": {
        "id": "qH4PrfRMGYTl"
      },
      "source": [
        "y = train_df['default_status']\n",
        "train_df = train_df.drop('default_status',axis=1)"
      ],
      "execution_count": null,
      "outputs": []
    },
    {
      "cell_type": "code",
      "metadata": {
        "id": "hF06dJprGeGi"
      },
      "source": [
        "X_num = train_df\n",
        "test_df = test_df"
      ],
      "execution_count": null,
      "outputs": []
    },
    {
      "cell_type": "code",
      "metadata": {
        "id": "qGbj7yIVGhKc"
      },
      "source": [
        "num_attribs = list(X_num)"
      ],
      "execution_count": null,
      "outputs": []
    },
    {
      "cell_type": "code",
      "metadata": {
        "id": "q5RPlfWCGj86"
      },
      "source": [
        "num_pipeline = Pipeline(steps=[('std_scaler', StandardScaler())])\n",
        " \n",
        "full_pipeline = ColumnTransformer([('num',num_pipeline,num_attribs)])"
      ],
      "execution_count": null,
      "outputs": []
    },
    {
      "cell_type": "code",
      "metadata": {
        "id": "NfBnSReGGmxs"
      },
      "source": [
        "X = full_pipeline.fit_transform(X_num)\n",
        "test_trans = full_pipeline.transform(test_df)"
      ],
      "execution_count": null,
      "outputs": []
    },
    {
      "cell_type": "code",
      "metadata": {
        "id": "rgy86ahwGszP",
        "outputId": "8d839cf8-1921-43ae-a8d8-0e4a751a9e46",
        "colab": {
          "base_uri": "https://localhost:8080/",
          "height": 1000
        }
      },
      "source": [
        "kf = KFold(n_splits=70,random_state=43,shuffle=False)\n",
        "scores = []\n",
        "test_scores = np.zeros(len(test_trans))\n",
        "for fold,(tr_in,te_in) in enumerate(kf.split(X)):\n",
        "    print(\"================================Fold{fold}====================================\".format(fold=fold))\n",
        "    X_train,X_test = X[tr_in],X[te_in]\n",
        "    y_train,y_test = y.iloc[tr_in],y.iloc[te_in]\n",
        "    cat = CatBoostClassifier(learning_rate=0.0755,eval_metric='AUC',random_seed=42)\n",
        "    cat.fit(X_train,y_train,eval_set=[(X_train,y_train),(X_test,y_test)],early_stopping_rounds=500,metric_period=1000,use_best_model=True)\n",
        "    scores.append(roc_auc_score(y_test,cat.predict_proba(X_test)[:,1]))\n",
        "    test_scores += cat.predict_proba(test_trans)[:,1]"
      ],
      "execution_count": null,
      "outputs": [
        {
          "output_type": "stream",
          "text": [
            "================================Fold0====================================\n"
          ],
          "name": "stdout"
        },
        {
          "output_type": "stream",
          "text": [
            "Warning: Overfitting detector is active, thus evaluation metric is calculated on every iteration. 'metric_period' is ignored for evaluation metric.\n"
          ],
          "name": "stderr"
        },
        {
          "output_type": "stream",
          "text": [
            "0:\ttest: 0.7985581\ttest1: 0.7833114\tbest: 0.7833114 (0)\ttotal: 38.3ms\tremaining: 38.2s\n",
            "999:\ttest: 0.9200079\ttest1: 0.8252306\tbest: 0.8286093 (745)\ttotal: 28.4s\tremaining: 0us\n",
            "\n",
            "bestTest = 0.8286092556\n",
            "bestIteration = 745\n",
            "\n",
            "Shrink model to first 746 iterations.\n",
            "================================Fold1====================================\n"
          ],
          "name": "stdout"
        },
        {
          "output_type": "stream",
          "text": [
            "Warning: Overfitting detector is active, thus evaluation metric is calculated on every iteration. 'metric_period' is ignored for evaluation metric.\n"
          ],
          "name": "stderr"
        },
        {
          "output_type": "stream",
          "text": [
            "0:\ttest: 0.7986138\ttest1: 0.7843162\tbest: 0.7843162 (0)\ttotal: 38.5ms\tremaining: 38.5s\n",
            "999:\ttest: 0.9186330\ttest1: 0.8276761\tbest: 0.8330938 (666)\ttotal: 28.6s\tremaining: 0us\n",
            "\n",
            "bestTest = 0.8330938334\n",
            "bestIteration = 666\n",
            "\n",
            "Shrink model to first 667 iterations.\n",
            "================================Fold2====================================\n"
          ],
          "name": "stdout"
        },
        {
          "output_type": "stream",
          "text": [
            "Warning: Overfitting detector is active, thus evaluation metric is calculated on every iteration. 'metric_period' is ignored for evaluation metric.\n"
          ],
          "name": "stderr"
        },
        {
          "output_type": "stream",
          "text": [
            "0:\ttest: 0.7983722\ttest1: 0.7826432\tbest: 0.7826432 (0)\ttotal: 38.3ms\tremaining: 38.2s\n",
            "Stopped by overfitting detector  (500 iterations wait)\n",
            "\n",
            "bestTest = 0.8216741872\n",
            "bestIteration = 387\n",
            "\n",
            "Shrink model to first 388 iterations.\n",
            "================================Fold3====================================\n"
          ],
          "name": "stdout"
        },
        {
          "output_type": "stream",
          "text": [
            "Warning: Overfitting detector is active, thus evaluation metric is calculated on every iteration. 'metric_period' is ignored for evaluation metric.\n"
          ],
          "name": "stderr"
        },
        {
          "output_type": "stream",
          "text": [
            "0:\ttest: 0.7982015\ttest1: 0.7993557\tbest: 0.7993557 (0)\ttotal: 39ms\tremaining: 39s\n",
            "999:\ttest: 0.9196794\ttest1: 0.8438749\tbest: 0.8468441 (600)\ttotal: 28.6s\tremaining: 0us\n",
            "\n",
            "bestTest = 0.846844071\n",
            "bestIteration = 600\n",
            "\n",
            "Shrink model to first 601 iterations.\n",
            "================================Fold4====================================\n"
          ],
          "name": "stdout"
        },
        {
          "output_type": "stream",
          "text": [
            "Warning: Overfitting detector is active, thus evaluation metric is calculated on every iteration. 'metric_period' is ignored for evaluation metric.\n"
          ],
          "name": "stderr"
        },
        {
          "output_type": "stream",
          "text": [
            "0:\ttest: 0.7980608\ttest1: 0.7936852\tbest: 0.7936852 (0)\ttotal: 40.6ms\tremaining: 40.6s\n",
            "999:\ttest: 0.9193640\ttest1: 0.8450770\tbest: 0.8465480 (632)\ttotal: 28.5s\tremaining: 0us\n",
            "\n",
            "bestTest = 0.8465480043\n",
            "bestIteration = 632\n",
            "\n",
            "Shrink model to first 633 iterations.\n",
            "================================Fold5====================================\n"
          ],
          "name": "stdout"
        },
        {
          "output_type": "stream",
          "text": [
            "Warning: Overfitting detector is active, thus evaluation metric is calculated on every iteration. 'metric_period' is ignored for evaluation metric.\n"
          ],
          "name": "stderr"
        },
        {
          "output_type": "stream",
          "text": [
            "0:\ttest: 0.7983720\ttest1: 0.7586972\tbest: 0.7586972 (0)\ttotal: 38.8ms\tremaining: 38.8s\n",
            "999:\ttest: 0.9198667\ttest1: 0.8258182\tbest: 0.8270944 (701)\ttotal: 28.8s\tremaining: 0us\n",
            "\n",
            "bestTest = 0.827094433\n",
            "bestIteration = 701\n",
            "\n",
            "Shrink model to first 702 iterations.\n",
            "================================Fold6====================================\n"
          ],
          "name": "stdout"
        },
        {
          "output_type": "stream",
          "text": [
            "Warning: Overfitting detector is active, thus evaluation metric is calculated on every iteration. 'metric_period' is ignored for evaluation metric.\n"
          ],
          "name": "stderr"
        },
        {
          "output_type": "stream",
          "text": [
            "0:\ttest: 0.7979450\ttest1: 0.8281137\tbest: 0.8281137 (0)\ttotal: 38ms\tremaining: 38s\n",
            "Stopped by overfitting detector  (500 iterations wait)\n",
            "\n",
            "bestTest = 0.8557719988\n",
            "bestIteration = 282\n",
            "\n",
            "Shrink model to first 283 iterations.\n",
            "================================Fold7====================================\n"
          ],
          "name": "stdout"
        },
        {
          "output_type": "stream",
          "text": [
            "Warning: Overfitting detector is active, thus evaluation metric is calculated on every iteration. 'metric_period' is ignored for evaluation metric.\n"
          ],
          "name": "stderr"
        },
        {
          "output_type": "stream",
          "text": [
            "0:\ttest: 0.7985187\ttest1: 0.8307419\tbest: 0.8307419 (0)\ttotal: 38.7ms\tremaining: 38.7s\n",
            "999:\ttest: 0.9197064\ttest1: 0.8686451\tbest: 0.8715023 (589)\ttotal: 28.6s\tremaining: 0us\n",
            "\n",
            "bestTest = 0.871502255\n",
            "bestIteration = 589\n",
            "\n",
            "Shrink model to first 590 iterations.\n",
            "================================Fold8====================================\n"
          ],
          "name": "stdout"
        },
        {
          "output_type": "stream",
          "text": [
            "Warning: Overfitting detector is active, thus evaluation metric is calculated on every iteration. 'metric_period' is ignored for evaluation metric.\n"
          ],
          "name": "stderr"
        },
        {
          "output_type": "stream",
          "text": [
            "0:\ttest: 0.7981355\ttest1: 0.8092088\tbest: 0.8092088 (0)\ttotal: 42.6ms\tremaining: 42.6s\n",
            "Stopped by overfitting detector  (500 iterations wait)\n",
            "\n",
            "bestTest = 0.8516701229\n",
            "bestIteration = 399\n",
            "\n",
            "Shrink model to first 400 iterations.\n",
            "================================Fold9====================================\n"
          ],
          "name": "stdout"
        },
        {
          "output_type": "stream",
          "text": [
            "Warning: Overfitting detector is active, thus evaluation metric is calculated on every iteration. 'metric_period' is ignored for evaluation metric.\n"
          ],
          "name": "stderr"
        },
        {
          "output_type": "stream",
          "text": [
            "0:\ttest: 0.7994429\ttest1: 0.7720830\tbest: 0.7720830 (0)\ttotal: 37.6ms\tremaining: 37.6s\n",
            "Stopped by overfitting detector  (500 iterations wait)\n",
            "\n",
            "bestTest = 0.8140718031\n",
            "bestIteration = 320\n",
            "\n",
            "Shrink model to first 321 iterations.\n",
            "================================Fold10====================================\n"
          ],
          "name": "stdout"
        },
        {
          "output_type": "stream",
          "text": [
            "Warning: Overfitting detector is active, thus evaluation metric is calculated on every iteration. 'metric_period' is ignored for evaluation metric.\n"
          ],
          "name": "stderr"
        },
        {
          "output_type": "stream",
          "text": [
            "0:\ttest: 0.7920336\ttest1: 0.7663925\tbest: 0.7663925 (0)\ttotal: 37.6ms\tremaining: 37.5s\n",
            "Stopped by overfitting detector  (500 iterations wait)\n",
            "\n",
            "bestTest = 0.8168881626\n",
            "bestIteration = 158\n",
            "\n",
            "Shrink model to first 159 iterations.\n",
            "================================Fold11====================================\n"
          ],
          "name": "stdout"
        },
        {
          "output_type": "stream",
          "text": [
            "Warning: Overfitting detector is active, thus evaluation metric is calculated on every iteration. 'metric_period' is ignored for evaluation metric.\n"
          ],
          "name": "stderr"
        },
        {
          "output_type": "stream",
          "text": [
            "0:\ttest: 0.7984565\ttest1: 0.7821666\tbest: 0.7821666 (0)\ttotal: 38.6ms\tremaining: 38.6s\n",
            "Stopped by overfitting detector  (500 iterations wait)\n",
            "\n",
            "bestTest = 0.8280421387\n",
            "bestIteration = 177\n",
            "\n",
            "Shrink model to first 178 iterations.\n",
            "================================Fold12====================================\n"
          ],
          "name": "stdout"
        },
        {
          "output_type": "stream",
          "text": [
            "Warning: Overfitting detector is active, thus evaluation metric is calculated on every iteration. 'metric_period' is ignored for evaluation metric.\n"
          ],
          "name": "stderr"
        },
        {
          "output_type": "stream",
          "text": [
            "0:\ttest: 0.7976263\ttest1: 0.7998732\tbest: 0.7998732 (0)\ttotal: 37.6ms\tremaining: 37.6s\n",
            "Stopped by overfitting detector  (500 iterations wait)\n",
            "\n",
            "bestTest = 0.8560426946\n",
            "bestIteration = 201\n",
            "\n",
            "Shrink model to first 202 iterations.\n",
            "================================Fold13====================================\n"
          ],
          "name": "stdout"
        },
        {
          "output_type": "stream",
          "text": [
            "Warning: Overfitting detector is active, thus evaluation metric is calculated on every iteration. 'metric_period' is ignored for evaluation metric.\n"
          ],
          "name": "stderr"
        },
        {
          "output_type": "stream",
          "text": [
            "0:\ttest: 0.7976468\ttest1: 0.8344276\tbest: 0.8344276 (0)\ttotal: 38.1ms\tremaining: 38.1s\n",
            "Stopped by overfitting detector  (500 iterations wait)\n",
            "\n",
            "bestTest = 0.8934476075\n",
            "bestIteration = 319\n",
            "\n",
            "Shrink model to first 320 iterations.\n",
            "================================Fold14====================================\n"
          ],
          "name": "stdout"
        },
        {
          "output_type": "stream",
          "text": [
            "Warning: Overfitting detector is active, thus evaluation metric is calculated on every iteration. 'metric_period' is ignored for evaluation metric.\n"
          ],
          "name": "stderr"
        },
        {
          "output_type": "stream",
          "text": [
            "0:\ttest: 0.7977902\ttest1: 0.8058168\tbest: 0.8058168 (0)\ttotal: 39.2ms\tremaining: 39.1s\n",
            "Stopped by overfitting detector  (500 iterations wait)\n",
            "\n",
            "bestTest = 0.8510760402\n",
            "bestIteration = 172\n",
            "\n",
            "Shrink model to first 173 iterations.\n",
            "================================Fold15====================================\n"
          ],
          "name": "stdout"
        },
        {
          "output_type": "stream",
          "text": [
            "Warning: Overfitting detector is active, thus evaluation metric is calculated on every iteration. 'metric_period' is ignored for evaluation metric.\n"
          ],
          "name": "stderr"
        },
        {
          "output_type": "stream",
          "text": [
            "0:\ttest: 0.7984130\ttest1: 0.7956348\tbest: 0.7956348 (0)\ttotal: 39.2ms\tremaining: 39.2s\n",
            "999:\ttest: 0.9193013\ttest1: 0.8407894\tbest: 0.8417828 (901)\ttotal: 28.4s\tremaining: 0us\n",
            "\n",
            "bestTest = 0.8417828405\n",
            "bestIteration = 901\n",
            "\n",
            "Shrink model to first 902 iterations.\n",
            "================================Fold16====================================\n"
          ],
          "name": "stdout"
        },
        {
          "output_type": "stream",
          "text": [
            "Warning: Overfitting detector is active, thus evaluation metric is calculated on every iteration. 'metric_period' is ignored for evaluation metric.\n"
          ],
          "name": "stderr"
        },
        {
          "output_type": "stream",
          "text": [
            "0:\ttest: 0.7982266\ttest1: 0.8121743\tbest: 0.8121743 (0)\ttotal: 40.8ms\tremaining: 40.7s\n",
            "999:\ttest: 0.9195155\ttest1: 0.8561639\tbest: 0.8564414 (819)\ttotal: 28.5s\tremaining: 0us\n",
            "\n",
            "bestTest = 0.8564413678\n",
            "bestIteration = 819\n",
            "\n",
            "Shrink model to first 820 iterations.\n",
            "================================Fold17====================================\n"
          ],
          "name": "stdout"
        },
        {
          "output_type": "stream",
          "text": [
            "Warning: Overfitting detector is active, thus evaluation metric is calculated on every iteration. 'metric_period' is ignored for evaluation metric.\n"
          ],
          "name": "stderr"
        },
        {
          "output_type": "stream",
          "text": [
            "0:\ttest: 0.7985944\ttest1: 0.7846928\tbest: 0.7846928 (0)\ttotal: 50.3ms\tremaining: 50.2s\n",
            "Stopped by overfitting detector  (500 iterations wait)\n",
            "\n",
            "bestTest = 0.8396283184\n",
            "bestIteration = 301\n",
            "\n",
            "Shrink model to first 302 iterations.\n",
            "================================Fold18====================================\n"
          ],
          "name": "stdout"
        },
        {
          "output_type": "stream",
          "text": [
            "Warning: Overfitting detector is active, thus evaluation metric is calculated on every iteration. 'metric_period' is ignored for evaluation metric.\n"
          ],
          "name": "stderr"
        },
        {
          "output_type": "stream",
          "text": [
            "0:\ttest: 0.7984807\ttest1: 0.7784431\tbest: 0.7784431 (0)\ttotal: 38.6ms\tremaining: 38.5s\n",
            "Stopped by overfitting detector  (500 iterations wait)\n",
            "\n",
            "bestTest = 0.8361003112\n",
            "bestIteration = 197\n",
            "\n",
            "Shrink model to first 198 iterations.\n",
            "================================Fold19====================================\n"
          ],
          "name": "stdout"
        },
        {
          "output_type": "stream",
          "text": [
            "Warning: Overfitting detector is active, thus evaluation metric is calculated on every iteration. 'metric_period' is ignored for evaluation metric.\n"
          ],
          "name": "stderr"
        },
        {
          "output_type": "stream",
          "text": [
            "0:\ttest: 0.7982581\ttest1: 0.7962820\tbest: 0.7962820 (0)\ttotal: 39.5ms\tremaining: 39.5s\n",
            "999:\ttest: 0.9194539\ttest1: 0.8378192\tbest: 0.8414858 (667)\ttotal: 28.6s\tremaining: 0us\n",
            "\n",
            "bestTest = 0.841485772\n",
            "bestIteration = 667\n",
            "\n",
            "Shrink model to first 668 iterations.\n",
            "================================Fold20====================================\n"
          ],
          "name": "stdout"
        },
        {
          "output_type": "stream",
          "text": [
            "Warning: Overfitting detector is active, thus evaluation metric is calculated on every iteration. 'metric_period' is ignored for evaluation metric.\n"
          ],
          "name": "stderr"
        },
        {
          "output_type": "stream",
          "text": [
            "0:\ttest: 0.7983731\ttest1: 0.7963298\tbest: 0.7963298 (0)\ttotal: 39.3ms\tremaining: 39.3s\n",
            "999:\ttest: 0.9185729\ttest1: 0.8450272\tbest: 0.8464017 (855)\ttotal: 28.5s\tremaining: 0us\n",
            "\n",
            "bestTest = 0.8464016994\n",
            "bestIteration = 855\n",
            "\n",
            "Shrink model to first 856 iterations.\n",
            "================================Fold21====================================\n"
          ],
          "name": "stdout"
        },
        {
          "output_type": "stream",
          "text": [
            "Warning: Overfitting detector is active, thus evaluation metric is calculated on every iteration. 'metric_period' is ignored for evaluation metric.\n"
          ],
          "name": "stderr"
        },
        {
          "output_type": "stream",
          "text": [
            "0:\ttest: 0.7979909\ttest1: 0.7826846\tbest: 0.7826846 (0)\ttotal: 37.6ms\tremaining: 37.5s\n",
            "Stopped by overfitting detector  (500 iterations wait)\n",
            "\n",
            "bestTest = 0.8205663663\n",
            "bestIteration = 229\n",
            "\n",
            "Shrink model to first 230 iterations.\n",
            "================================Fold22====================================\n"
          ],
          "name": "stdout"
        },
        {
          "output_type": "stream",
          "text": [
            "Warning: Overfitting detector is active, thus evaluation metric is calculated on every iteration. 'metric_period' is ignored for evaluation metric.\n"
          ],
          "name": "stderr"
        },
        {
          "output_type": "stream",
          "text": [
            "0:\ttest: 0.7990072\ttest1: 0.7509667\tbest: 0.7509667 (0)\ttotal: 38.7ms\tremaining: 38.7s\n",
            "999:\ttest: 0.9199764\ttest1: 0.8111417\tbest: 0.8127500 (867)\ttotal: 28.5s\tremaining: 0us\n",
            "\n",
            "bestTest = 0.81275\n",
            "bestIteration = 867\n",
            "\n",
            "Shrink model to first 868 iterations.\n",
            "================================Fold23====================================\n"
          ],
          "name": "stdout"
        },
        {
          "output_type": "stream",
          "text": [
            "Warning: Overfitting detector is active, thus evaluation metric is calculated on every iteration. 'metric_period' is ignored for evaluation metric.\n"
          ],
          "name": "stderr"
        },
        {
          "output_type": "stream",
          "text": [
            "0:\ttest: 0.7977295\ttest1: 0.8142173\tbest: 0.8142173 (0)\ttotal: 39ms\tremaining: 38.9s\n",
            "999:\ttest: 0.9191936\ttest1: 0.8661575\tbest: 0.8670841 (926)\ttotal: 28.4s\tremaining: 0us\n",
            "\n",
            "bestTest = 0.8670840586\n",
            "bestIteration = 926\n",
            "\n",
            "Shrink model to first 927 iterations.\n",
            "================================Fold24====================================\n"
          ],
          "name": "stdout"
        },
        {
          "output_type": "stream",
          "text": [
            "Warning: Overfitting detector is active, thus evaluation metric is calculated on every iteration. 'metric_period' is ignored for evaluation metric.\n"
          ],
          "name": "stderr"
        },
        {
          "output_type": "stream",
          "text": [
            "0:\ttest: 0.7980396\ttest1: 0.8082308\tbest: 0.8082308 (0)\ttotal: 38.5ms\tremaining: 38.5s\n",
            "Stopped by overfitting detector  (500 iterations wait)\n",
            "\n",
            "bestTest = 0.8534386006\n",
            "bestIteration = 412\n",
            "\n",
            "Shrink model to first 413 iterations.\n",
            "================================Fold25====================================\n"
          ],
          "name": "stdout"
        },
        {
          "output_type": "stream",
          "text": [
            "Warning: Overfitting detector is active, thus evaluation metric is calculated on every iteration. 'metric_period' is ignored for evaluation metric.\n"
          ],
          "name": "stderr"
        },
        {
          "output_type": "stream",
          "text": [
            "0:\ttest: 0.7980823\ttest1: 0.7941504\tbest: 0.7941504 (0)\ttotal: 39.4ms\tremaining: 39.4s\n",
            "Stopped by overfitting detector  (500 iterations wait)\n",
            "\n",
            "bestTest = 0.8544048857\n",
            "bestIteration = 429\n",
            "\n",
            "Shrink model to first 430 iterations.\n",
            "================================Fold26====================================\n"
          ],
          "name": "stdout"
        },
        {
          "output_type": "stream",
          "text": [
            "Warning: Overfitting detector is active, thus evaluation metric is calculated on every iteration. 'metric_period' is ignored for evaluation metric.\n"
          ],
          "name": "stderr"
        },
        {
          "output_type": "stream",
          "text": [
            "0:\ttest: 0.7996487\ttest1: 0.7665936\tbest: 0.7665936 (0)\ttotal: 38.7ms\tremaining: 38.7s\n",
            "999:\ttest: 0.9203133\ttest1: 0.8240528\tbest: 0.8250621 (786)\ttotal: 28.7s\tremaining: 0us\n",
            "\n",
            "bestTest = 0.8250620533\n",
            "bestIteration = 786\n",
            "\n",
            "Shrink model to first 787 iterations.\n",
            "================================Fold27====================================\n"
          ],
          "name": "stdout"
        },
        {
          "output_type": "stream",
          "text": [
            "Warning: Overfitting detector is active, thus evaluation metric is calculated on every iteration. 'metric_period' is ignored for evaluation metric.\n"
          ],
          "name": "stderr"
        },
        {
          "output_type": "stream",
          "text": [
            "0:\ttest: 0.7995674\ttest1: 0.7670644\tbest: 0.7670644 (0)\ttotal: 37.7ms\tremaining: 37.7s\n",
            "Stopped by overfitting detector  (500 iterations wait)\n",
            "\n",
            "bestTest = 0.8430225541\n",
            "bestIteration = 458\n",
            "\n",
            "Shrink model to first 459 iterations.\n",
            "================================Fold28====================================\n"
          ],
          "name": "stdout"
        },
        {
          "output_type": "stream",
          "text": [
            "Warning: Overfitting detector is active, thus evaluation metric is calculated on every iteration. 'metric_period' is ignored for evaluation metric.\n"
          ],
          "name": "stderr"
        },
        {
          "output_type": "stream",
          "text": [
            "0:\ttest: 0.7979164\ttest1: 0.8224418\tbest: 0.8224418 (0)\ttotal: 38ms\tremaining: 37.9s\n",
            "Stopped by overfitting detector  (500 iterations wait)\n",
            "\n",
            "bestTest = 0.8537992832\n",
            "bestIteration = 368\n",
            "\n",
            "Shrink model to first 369 iterations.\n",
            "================================Fold29====================================\n"
          ],
          "name": "stdout"
        },
        {
          "output_type": "stream",
          "text": [
            "Warning: Overfitting detector is active, thus evaluation metric is calculated on every iteration. 'metric_period' is ignored for evaluation metric.\n"
          ],
          "name": "stderr"
        },
        {
          "output_type": "stream",
          "text": [
            "0:\ttest: 0.7918628\ttest1: 0.7636884\tbest: 0.7636884 (0)\ttotal: 37.6ms\tremaining: 37.5s\n",
            "Stopped by overfitting detector  (500 iterations wait)\n",
            "\n",
            "bestTest = 0.8378123235\n",
            "bestIteration = 439\n",
            "\n",
            "Shrink model to first 440 iterations.\n",
            "================================Fold30====================================\n"
          ],
          "name": "stdout"
        },
        {
          "output_type": "stream",
          "text": [
            "Warning: Overfitting detector is active, thus evaluation metric is calculated on every iteration. 'metric_period' is ignored for evaluation metric.\n"
          ],
          "name": "stderr"
        },
        {
          "output_type": "stream",
          "text": [
            "0:\ttest: 0.7982179\ttest1: 0.8050392\tbest: 0.8050392 (0)\ttotal: 38.4ms\tremaining: 38.4s\n",
            "999:\ttest: 0.9192802\ttest1: 0.8453232\tbest: 0.8478237 (673)\ttotal: 28.4s\tremaining: 0us\n",
            "\n",
            "bestTest = 0.8478236915\n",
            "bestIteration = 673\n",
            "\n",
            "Shrink model to first 674 iterations.\n",
            "================================Fold31====================================\n"
          ],
          "name": "stdout"
        },
        {
          "output_type": "stream",
          "text": [
            "Warning: Overfitting detector is active, thus evaluation metric is calculated on every iteration. 'metric_period' is ignored for evaluation metric.\n"
          ],
          "name": "stderr"
        },
        {
          "output_type": "stream",
          "text": [
            "0:\ttest: 0.7978601\ttest1: 0.7881557\tbest: 0.7881557 (0)\ttotal: 40.3ms\tremaining: 40.3s\n",
            "Stopped by overfitting detector  (500 iterations wait)\n",
            "\n",
            "bestTest = 0.8464105584\n",
            "bestIteration = 314\n",
            "\n",
            "Shrink model to first 315 iterations.\n",
            "================================Fold32====================================\n"
          ],
          "name": "stdout"
        },
        {
          "output_type": "stream",
          "text": [
            "Warning: Overfitting detector is active, thus evaluation metric is calculated on every iteration. 'metric_period' is ignored for evaluation metric.\n"
          ],
          "name": "stderr"
        },
        {
          "output_type": "stream",
          "text": [
            "0:\ttest: 0.7984592\ttest1: 0.7621243\tbest: 0.7621243 (0)\ttotal: 38.9ms\tremaining: 38.8s\n",
            "Stopped by overfitting detector  (500 iterations wait)\n",
            "\n",
            "bestTest = 0.8195456851\n",
            "bestIteration = 178\n",
            "\n",
            "Shrink model to first 179 iterations.\n",
            "================================Fold33====================================\n"
          ],
          "name": "stdout"
        },
        {
          "output_type": "stream",
          "text": [
            "Warning: Overfitting detector is active, thus evaluation metric is calculated on every iteration. 'metric_period' is ignored for evaluation metric.\n"
          ],
          "name": "stderr"
        },
        {
          "output_type": "stream",
          "text": [
            "0:\ttest: 0.7987141\ttest1: 0.7765783\tbest: 0.7765783 (0)\ttotal: 44.8ms\tremaining: 44.8s\n",
            "Stopped by overfitting detector  (500 iterations wait)\n",
            "\n",
            "bestTest = 0.8343943282\n",
            "bestIteration = 471\n",
            "\n",
            "Shrink model to first 472 iterations.\n",
            "================================Fold34====================================\n"
          ],
          "name": "stdout"
        },
        {
          "output_type": "stream",
          "text": [
            "Warning: Overfitting detector is active, thus evaluation metric is calculated on every iteration. 'metric_period' is ignored for evaluation metric.\n"
          ],
          "name": "stderr"
        },
        {
          "output_type": "stream",
          "text": [
            "0:\ttest: 0.7979266\ttest1: 0.8108471\tbest: 0.8108471 (0)\ttotal: 38.3ms\tremaining: 38.3s\n",
            "Stopped by overfitting detector  (500 iterations wait)\n",
            "\n",
            "bestTest = 0.8403331132\n",
            "bestIteration = 242\n",
            "\n",
            "Shrink model to first 243 iterations.\n",
            "================================Fold35====================================\n"
          ],
          "name": "stdout"
        },
        {
          "output_type": "stream",
          "text": [
            "Warning: Overfitting detector is active, thus evaluation metric is calculated on every iteration. 'metric_period' is ignored for evaluation metric.\n"
          ],
          "name": "stderr"
        },
        {
          "output_type": "stream",
          "text": [
            "0:\ttest: 0.7980819\ttest1: 0.8207657\tbest: 0.8207657 (0)\ttotal: 38.9ms\tremaining: 38.9s\n",
            "Stopped by overfitting detector  (500 iterations wait)\n",
            "\n",
            "bestTest = 0.8600383235\n",
            "bestIteration = 245\n",
            "\n",
            "Shrink model to first 246 iterations.\n",
            "================================Fold36====================================\n"
          ],
          "name": "stdout"
        },
        {
          "output_type": "stream",
          "text": [
            "Warning: Overfitting detector is active, thus evaluation metric is calculated on every iteration. 'metric_period' is ignored for evaluation metric.\n"
          ],
          "name": "stderr"
        },
        {
          "output_type": "stream",
          "text": [
            "0:\ttest: 0.7990800\ttest1: 0.8098483\tbest: 0.8098483 (0)\ttotal: 39.7ms\tremaining: 39.6s\n",
            "Stopped by overfitting detector  (500 iterations wait)\n",
            "\n",
            "bestTest = 0.842460277\n",
            "bestIteration = 304\n",
            "\n",
            "Shrink model to first 305 iterations.\n",
            "================================Fold37====================================\n"
          ],
          "name": "stdout"
        },
        {
          "output_type": "stream",
          "text": [
            "Warning: Overfitting detector is active, thus evaluation metric is calculated on every iteration. 'metric_period' is ignored for evaluation metric.\n"
          ],
          "name": "stderr"
        },
        {
          "output_type": "stream",
          "text": [
            "0:\ttest: 0.7980725\ttest1: 0.7913964\tbest: 0.7913964 (0)\ttotal: 46.7ms\tremaining: 46.6s\n",
            "Stopped by overfitting detector  (500 iterations wait)\n",
            "\n",
            "bestTest = 0.8380802156\n",
            "bestIteration = 223\n",
            "\n",
            "Shrink model to first 224 iterations.\n",
            "================================Fold38====================================\n"
          ],
          "name": "stdout"
        },
        {
          "output_type": "stream",
          "text": [
            "Warning: Overfitting detector is active, thus evaluation metric is calculated on every iteration. 'metric_period' is ignored for evaluation metric.\n"
          ],
          "name": "stderr"
        },
        {
          "output_type": "stream",
          "text": [
            "0:\ttest: 0.7984446\ttest1: 0.7862665\tbest: 0.7862665 (0)\ttotal: 39.3ms\tremaining: 39.2s\n",
            "Stopped by overfitting detector  (500 iterations wait)\n",
            "\n",
            "bestTest = 0.841899455\n",
            "bestIteration = 200\n",
            "\n",
            "Shrink model to first 201 iterations.\n",
            "================================Fold39====================================\n"
          ],
          "name": "stdout"
        },
        {
          "output_type": "stream",
          "text": [
            "Warning: Overfitting detector is active, thus evaluation metric is calculated on every iteration. 'metric_period' is ignored for evaluation metric.\n"
          ],
          "name": "stderr"
        },
        {
          "output_type": "stream",
          "text": [
            "0:\ttest: 0.7991729\ttest1: 0.8010210\tbest: 0.8010210 (0)\ttotal: 37.7ms\tremaining: 37.7s\n",
            "999:\ttest: 0.9189235\ttest1: 0.8356739\tbest: 0.8383939 (578)\ttotal: 28.3s\tremaining: 0us\n",
            "\n",
            "bestTest = 0.838393866\n",
            "bestIteration = 578\n",
            "\n",
            "Shrink model to first 579 iterations.\n",
            "================================Fold40====================================\n"
          ],
          "name": "stdout"
        },
        {
          "output_type": "stream",
          "text": [
            "Warning: Overfitting detector is active, thus evaluation metric is calculated on every iteration. 'metric_period' is ignored for evaluation metric.\n"
          ],
          "name": "stderr"
        },
        {
          "output_type": "stream",
          "text": [
            "0:\ttest: 0.7985060\ttest1: 0.7872943\tbest: 0.7872943 (0)\ttotal: 38.7ms\tremaining: 38.7s\n",
            "Stopped by overfitting detector  (500 iterations wait)\n",
            "\n",
            "bestTest = 0.8283138515\n",
            "bestIteration = 482\n",
            "\n",
            "Shrink model to first 483 iterations.\n",
            "================================Fold41====================================\n"
          ],
          "name": "stdout"
        },
        {
          "output_type": "stream",
          "text": [
            "Warning: Overfitting detector is active, thus evaluation metric is calculated on every iteration. 'metric_period' is ignored for evaluation metric.\n"
          ],
          "name": "stderr"
        },
        {
          "output_type": "stream",
          "text": [
            "0:\ttest: 0.7982905\ttest1: 0.8044890\tbest: 0.8044890 (0)\ttotal: 47.2ms\tremaining: 47.1s\n",
            "Stopped by overfitting detector  (500 iterations wait)\n",
            "\n",
            "bestTest = 0.8383152174\n",
            "bestIteration = 184\n",
            "\n",
            "Shrink model to first 185 iterations.\n",
            "================================Fold42====================================\n"
          ],
          "name": "stdout"
        },
        {
          "output_type": "stream",
          "text": [
            "Warning: Overfitting detector is active, thus evaluation metric is calculated on every iteration. 'metric_period' is ignored for evaluation metric.\n"
          ],
          "name": "stderr"
        },
        {
          "output_type": "stream",
          "text": [
            "0:\ttest: 0.7980264\ttest1: 0.8150963\tbest: 0.8150963 (0)\ttotal: 38.8ms\tremaining: 38.8s\n",
            "Stopped by overfitting detector  (500 iterations wait)\n",
            "\n",
            "bestTest = 0.838632131\n",
            "bestIteration = 184\n",
            "\n",
            "Shrink model to first 185 iterations.\n",
            "================================Fold43====================================\n"
          ],
          "name": "stdout"
        },
        {
          "output_type": "stream",
          "text": [
            "Warning: Overfitting detector is active, thus evaluation metric is calculated on every iteration. 'metric_period' is ignored for evaluation metric.\n"
          ],
          "name": "stderr"
        },
        {
          "output_type": "stream",
          "text": [
            "0:\ttest: 0.7980170\ttest1: 0.8006563\tbest: 0.8006563 (0)\ttotal: 38.3ms\tremaining: 38.3s\n",
            "999:\ttest: 0.9191879\ttest1: 0.8397733\tbest: 0.8400201 (996)\ttotal: 28.3s\tremaining: 0us\n",
            "\n",
            "bestTest = 0.8400200684\n",
            "bestIteration = 996\n",
            "\n",
            "Shrink model to first 997 iterations.\n",
            "================================Fold44====================================\n"
          ],
          "name": "stdout"
        },
        {
          "output_type": "stream",
          "text": [
            "Warning: Overfitting detector is active, thus evaluation metric is calculated on every iteration. 'metric_period' is ignored for evaluation metric.\n"
          ],
          "name": "stderr"
        },
        {
          "output_type": "stream",
          "text": [
            "0:\ttest: 0.7986248\ttest1: 0.7750483\tbest: 0.7750483 (0)\ttotal: 38.5ms\tremaining: 38.5s\n",
            "999:\ttest: 0.9195045\ttest1: 0.8278216\tbest: 0.8283576 (913)\ttotal: 28.5s\tremaining: 0us\n",
            "\n",
            "bestTest = 0.8283576455\n",
            "bestIteration = 913\n",
            "\n",
            "Shrink model to first 914 iterations.\n",
            "================================Fold45====================================\n"
          ],
          "name": "stdout"
        },
        {
          "output_type": "stream",
          "text": [
            "Warning: Overfitting detector is active, thus evaluation metric is calculated on every iteration. 'metric_period' is ignored for evaluation metric.\n"
          ],
          "name": "stderr"
        },
        {
          "output_type": "stream",
          "text": [
            "0:\ttest: 0.7982600\ttest1: 0.7776854\tbest: 0.7776854 (0)\ttotal: 36.6ms\tremaining: 36.5s\n",
            "Stopped by overfitting detector  (500 iterations wait)\n",
            "\n",
            "bestTest = 0.8236732643\n",
            "bestIteration = 388\n",
            "\n",
            "Shrink model to first 389 iterations.\n",
            "================================Fold46====================================\n"
          ],
          "name": "stdout"
        },
        {
          "output_type": "stream",
          "text": [
            "Warning: Overfitting detector is active, thus evaluation metric is calculated on every iteration. 'metric_period' is ignored for evaluation metric.\n"
          ],
          "name": "stderr"
        },
        {
          "output_type": "stream",
          "text": [
            "0:\ttest: 0.7986109\ttest1: 0.7652747\tbest: 0.7652747 (0)\ttotal: 39.6ms\tremaining: 39.6s\n",
            "Stopped by overfitting detector  (500 iterations wait)\n",
            "\n",
            "bestTest = 0.8028815023\n",
            "bestIteration = 447\n",
            "\n",
            "Shrink model to first 448 iterations.\n",
            "================================Fold47====================================\n"
          ],
          "name": "stdout"
        },
        {
          "output_type": "stream",
          "text": [
            "Warning: Overfitting detector is active, thus evaluation metric is calculated on every iteration. 'metric_period' is ignored for evaluation metric.\n"
          ],
          "name": "stderr"
        },
        {
          "output_type": "stream",
          "text": [
            "0:\ttest: 0.7986554\ttest1: 0.7762591\tbest: 0.7762591 (0)\ttotal: 38.3ms\tremaining: 38.2s\n",
            "Stopped by overfitting detector  (500 iterations wait)\n",
            "\n",
            "bestTest = 0.8356071393\n",
            "bestIteration = 314\n",
            "\n",
            "Shrink model to first 315 iterations.\n",
            "================================Fold48====================================\n"
          ],
          "name": "stdout"
        },
        {
          "output_type": "stream",
          "text": [
            "Warning: Overfitting detector is active, thus evaluation metric is calculated on every iteration. 'metric_period' is ignored for evaluation metric.\n"
          ],
          "name": "stderr"
        },
        {
          "output_type": "stream",
          "text": [
            "0:\ttest: 0.7984074\ttest1: 0.7758875\tbest: 0.7758875 (0)\ttotal: 38.5ms\tremaining: 38.4s\n",
            "Stopped by overfitting detector  (500 iterations wait)\n",
            "\n",
            "bestTest = 0.8306614332\n",
            "bestIteration = 348\n",
            "\n",
            "Shrink model to first 349 iterations.\n",
            "================================Fold49====================================\n"
          ],
          "name": "stdout"
        },
        {
          "output_type": "stream",
          "text": [
            "Warning: Overfitting detector is active, thus evaluation metric is calculated on every iteration. 'metric_period' is ignored for evaluation metric.\n"
          ],
          "name": "stderr"
        },
        {
          "output_type": "stream",
          "text": [
            "0:\ttest: 0.7983986\ttest1: 0.7589761\tbest: 0.7589761 (0)\ttotal: 37.8ms\tremaining: 37.8s\n",
            "999:\ttest: 0.9192824\ttest1: 0.8143395\tbest: 0.8162768 (912)\ttotal: 28.2s\tremaining: 0us\n",
            "\n",
            "bestTest = 0.8162768429\n",
            "bestIteration = 912\n",
            "\n",
            "Shrink model to first 913 iterations.\n",
            "================================Fold50====================================\n"
          ],
          "name": "stdout"
        },
        {
          "output_type": "stream",
          "text": [
            "Warning: Overfitting detector is active, thus evaluation metric is calculated on every iteration. 'metric_period' is ignored for evaluation metric.\n"
          ],
          "name": "stderr"
        },
        {
          "output_type": "stream",
          "text": [
            "0:\ttest: 0.7977683\ttest1: 0.7976035\tbest: 0.7976035 (0)\ttotal: 37.2ms\tremaining: 37.2s\n",
            "Stopped by overfitting detector  (500 iterations wait)\n",
            "\n",
            "bestTest = 0.8364724988\n",
            "bestIteration = 333\n",
            "\n",
            "Shrink model to first 334 iterations.\n",
            "================================Fold51====================================\n"
          ],
          "name": "stdout"
        },
        {
          "output_type": "stream",
          "text": [
            "Warning: Overfitting detector is active, thus evaluation metric is calculated on every iteration. 'metric_period' is ignored for evaluation metric.\n"
          ],
          "name": "stderr"
        },
        {
          "output_type": "stream",
          "text": [
            "0:\ttest: 0.7984958\ttest1: 0.7748668\tbest: 0.7748668 (0)\ttotal: 38.7ms\tremaining: 38.6s\n",
            "Stopped by overfitting detector  (500 iterations wait)\n",
            "\n",
            "bestTest = 0.8422239037\n",
            "bestIteration = 357\n",
            "\n",
            "Shrink model to first 358 iterations.\n",
            "================================Fold52====================================\n"
          ],
          "name": "stdout"
        },
        {
          "output_type": "stream",
          "text": [
            "Warning: Overfitting detector is active, thus evaluation metric is calculated on every iteration. 'metric_period' is ignored for evaluation metric.\n"
          ],
          "name": "stderr"
        },
        {
          "output_type": "stream",
          "text": [
            "0:\ttest: 0.7979218\ttest1: 0.8240214\tbest: 0.8240214 (0)\ttotal: 55ms\tremaining: 55s\n",
            "999:\ttest: 0.9193766\ttest1: 0.8742406\tbest: 0.8764179 (851)\ttotal: 28s\tremaining: 0us\n",
            "\n",
            "bestTest = 0.8764179279\n",
            "bestIteration = 851\n",
            "\n",
            "Shrink model to first 852 iterations.\n",
            "================================Fold53====================================\n"
          ],
          "name": "stdout"
        },
        {
          "output_type": "stream",
          "text": [
            "Warning: Overfitting detector is active, thus evaluation metric is calculated on every iteration. 'metric_period' is ignored for evaluation metric.\n"
          ],
          "name": "stderr"
        },
        {
          "output_type": "stream",
          "text": [
            "0:\ttest: 0.7992660\ttest1: 0.8023000\tbest: 0.8023000 (0)\ttotal: 38ms\tremaining: 38s\n",
            "999:\ttest: 0.9192105\ttest1: 0.8424108\tbest: 0.8436644 (582)\ttotal: 28.4s\tremaining: 0us\n",
            "\n",
            "bestTest = 0.8436644262\n",
            "bestIteration = 582\n",
            "\n",
            "Shrink model to first 583 iterations.\n",
            "================================Fold54====================================\n"
          ],
          "name": "stdout"
        },
        {
          "output_type": "stream",
          "text": [
            "Warning: Overfitting detector is active, thus evaluation metric is calculated on every iteration. 'metric_period' is ignored for evaluation metric.\n"
          ],
          "name": "stderr"
        },
        {
          "output_type": "stream",
          "text": [
            "0:\ttest: 0.7979793\ttest1: 0.7919292\tbest: 0.7919292 (0)\ttotal: 39.5ms\tremaining: 39.5s\n",
            "Stopped by overfitting detector  (500 iterations wait)\n",
            "\n",
            "bestTest = 0.8172102391\n",
            "bestIteration = 178\n",
            "\n",
            "Shrink model to first 179 iterations.\n",
            "================================Fold55====================================\n"
          ],
          "name": "stdout"
        },
        {
          "output_type": "stream",
          "text": [
            "Warning: Overfitting detector is active, thus evaluation metric is calculated on every iteration. 'metric_period' is ignored for evaluation metric.\n"
          ],
          "name": "stderr"
        },
        {
          "output_type": "stream",
          "text": [
            "0:\ttest: 0.7983828\ttest1: 0.7906730\tbest: 0.7906730 (0)\ttotal: 44.4ms\tremaining: 44.4s\n",
            "Stopped by overfitting detector  (500 iterations wait)\n",
            "\n",
            "bestTest = 0.8189473684\n",
            "bestIteration = 206\n",
            "\n",
            "Shrink model to first 207 iterations.\n",
            "================================Fold56====================================\n"
          ],
          "name": "stdout"
        },
        {
          "output_type": "stream",
          "text": [
            "Warning: Overfitting detector is active, thus evaluation metric is calculated on every iteration. 'metric_period' is ignored for evaluation metric.\n"
          ],
          "name": "stderr"
        },
        {
          "output_type": "stream",
          "text": [
            "0:\ttest: 0.7975917\ttest1: 0.8121875\tbest: 0.8121875 (0)\ttotal: 39ms\tremaining: 39s\n",
            "Stopped by overfitting detector  (500 iterations wait)\n",
            "\n",
            "bestTest = 0.8556640625\n",
            "bestIteration = 154\n",
            "\n",
            "Shrink model to first 155 iterations.\n",
            "================================Fold57====================================\n"
          ],
          "name": "stdout"
        },
        {
          "output_type": "stream",
          "text": [
            "Warning: Overfitting detector is active, thus evaluation metric is calculated on every iteration. 'metric_period' is ignored for evaluation metric.\n"
          ],
          "name": "stderr"
        },
        {
          "output_type": "stream",
          "text": [
            "0:\ttest: 0.7981948\ttest1: 0.7951019\tbest: 0.7951019 (0)\ttotal: 39.1ms\tremaining: 39s\n",
            "Stopped by overfitting detector  (500 iterations wait)\n",
            "\n",
            "bestTest = 0.8423080823\n",
            "bestIteration = 302\n",
            "\n",
            "Shrink model to first 303 iterations.\n",
            "================================Fold58====================================\n"
          ],
          "name": "stdout"
        },
        {
          "output_type": "stream",
          "text": [
            "Warning: Overfitting detector is active, thus evaluation metric is calculated on every iteration. 'metric_period' is ignored for evaluation metric.\n"
          ],
          "name": "stderr"
        },
        {
          "output_type": "stream",
          "text": [
            "0:\ttest: 0.7975826\ttest1: 0.8328613\tbest: 0.8328613 (0)\ttotal: 38.7ms\tremaining: 38.6s\n",
            "Stopped by overfitting detector  (500 iterations wait)\n",
            "\n",
            "bestTest = 0.8654488023\n",
            "bestIteration = 136\n",
            "\n",
            "Shrink model to first 137 iterations.\n",
            "================================Fold59====================================\n"
          ],
          "name": "stdout"
        },
        {
          "output_type": "stream",
          "text": [
            "Warning: Overfitting detector is active, thus evaluation metric is calculated on every iteration. 'metric_period' is ignored for evaluation metric.\n"
          ],
          "name": "stderr"
        },
        {
          "output_type": "stream",
          "text": [
            "0:\ttest: 0.7977664\ttest1: 0.8097192\tbest: 0.8097192 (0)\ttotal: 38ms\tremaining: 38s\n",
            "999:\ttest: 0.9197484\ttest1: 0.8387573\tbest: 0.8407638 (536)\ttotal: 28.1s\tremaining: 0us\n",
            "\n",
            "bestTest = 0.8407638286\n",
            "bestIteration = 536\n",
            "\n",
            "Shrink model to first 537 iterations.\n",
            "================================Fold60====================================\n"
          ],
          "name": "stdout"
        },
        {
          "output_type": "stream",
          "text": [
            "Warning: Overfitting detector is active, thus evaluation metric is calculated on every iteration. 'metric_period' is ignored for evaluation metric.\n"
          ],
          "name": "stderr"
        },
        {
          "output_type": "stream",
          "text": [
            "0:\ttest: 0.7979516\ttest1: 0.8003693\tbest: 0.8003693 (0)\ttotal: 44ms\tremaining: 44s\n",
            "Stopped by overfitting detector  (500 iterations wait)\n",
            "\n",
            "bestTest = 0.8284318421\n",
            "bestIteration = 317\n",
            "\n",
            "Shrink model to first 318 iterations.\n",
            "================================Fold61====================================\n"
          ],
          "name": "stdout"
        },
        {
          "output_type": "stream",
          "text": [
            "Warning: Overfitting detector is active, thus evaluation metric is calculated on every iteration. 'metric_period' is ignored for evaluation metric.\n"
          ],
          "name": "stderr"
        },
        {
          "output_type": "stream",
          "text": [
            "0:\ttest: 0.7979246\ttest1: 0.8124559\tbest: 0.8124559 (0)\ttotal: 39.4ms\tremaining: 39.4s\n",
            "Stopped by overfitting detector  (500 iterations wait)\n",
            "\n",
            "bestTest = 0.8545617268\n",
            "bestIteration = 164\n",
            "\n",
            "Shrink model to first 165 iterations.\n",
            "================================Fold62====================================\n"
          ],
          "name": "stdout"
        },
        {
          "output_type": "stream",
          "text": [
            "Warning: Overfitting detector is active, thus evaluation metric is calculated on every iteration. 'metric_period' is ignored for evaluation metric.\n"
          ],
          "name": "stderr"
        },
        {
          "output_type": "stream",
          "text": [
            "0:\ttest: 0.7977954\ttest1: 0.8392687\tbest: 0.8392687 (0)\ttotal: 38.2ms\tremaining: 38.1s\n",
            "Stopped by overfitting detector  (500 iterations wait)\n",
            "\n",
            "bestTest = 0.8724324618\n",
            "bestIteration = 405\n",
            "\n",
            "Shrink model to first 406 iterations.\n",
            "================================Fold63====================================\n"
          ],
          "name": "stdout"
        },
        {
          "output_type": "stream",
          "text": [
            "Warning: Overfitting detector is active, thus evaluation metric is calculated on every iteration. 'metric_period' is ignored for evaluation metric.\n"
          ],
          "name": "stderr"
        },
        {
          "output_type": "stream",
          "text": [
            "0:\ttest: 0.7983447\ttest1: 0.7915637\tbest: 0.7915637 (0)\ttotal: 39.8ms\tremaining: 39.8s\n",
            "Stopped by overfitting detector  (500 iterations wait)\n",
            "\n",
            "bestTest = 0.8410731977\n",
            "bestIteration = 244\n",
            "\n",
            "Shrink model to first 245 iterations.\n",
            "================================Fold64====================================\n"
          ],
          "name": "stdout"
        },
        {
          "output_type": "stream",
          "text": [
            "Warning: Overfitting detector is active, thus evaluation metric is calculated on every iteration. 'metric_period' is ignored for evaluation metric.\n"
          ],
          "name": "stderr"
        },
        {
          "output_type": "stream",
          "text": [
            "0:\ttest: 0.7976467\ttest1: 0.8081731\tbest: 0.8081731 (0)\ttotal: 39ms\tremaining: 39s\n",
            "999:\ttest: 0.9202375\ttest1: 0.8475536\tbest: 0.8495084 (873)\ttotal: 28.4s\tremaining: 0us\n",
            "\n",
            "bestTest = 0.8495083728\n",
            "bestIteration = 873\n",
            "\n",
            "Shrink model to first 874 iterations.\n",
            "================================Fold65====================================\n"
          ],
          "name": "stdout"
        },
        {
          "output_type": "stream",
          "text": [
            "Warning: Overfitting detector is active, thus evaluation metric is calculated on every iteration. 'metric_period' is ignored for evaluation metric.\n"
          ],
          "name": "stderr"
        },
        {
          "output_type": "stream",
          "text": [
            "0:\ttest: 0.7977738\ttest1: 0.8091493\tbest: 0.8091493 (0)\ttotal: 38.1ms\tremaining: 38.1s\n",
            "Stopped by overfitting detector  (500 iterations wait)\n",
            "\n",
            "bestTest = 0.8478592006\n",
            "bestIteration = 413\n",
            "\n",
            "Shrink model to first 414 iterations.\n",
            "================================Fold66====================================\n"
          ],
          "name": "stdout"
        },
        {
          "output_type": "stream",
          "text": [
            "Warning: Overfitting detector is active, thus evaluation metric is calculated on every iteration. 'metric_period' is ignored for evaluation metric.\n"
          ],
          "name": "stderr"
        },
        {
          "output_type": "stream",
          "text": [
            "0:\ttest: 0.7979105\ttest1: 0.7965752\tbest: 0.7965752 (0)\ttotal: 39.7ms\tremaining: 39.6s\n",
            "999:\ttest: 0.9199888\ttest1: 0.8462023\tbest: 0.8476147 (919)\ttotal: 28.2s\tremaining: 0us\n",
            "\n",
            "bestTest = 0.8476146781\n",
            "bestIteration = 919\n",
            "\n",
            "Shrink model to first 920 iterations.\n",
            "================================Fold67====================================\n"
          ],
          "name": "stdout"
        },
        {
          "output_type": "stream",
          "text": [
            "Warning: Overfitting detector is active, thus evaluation metric is calculated on every iteration. 'metric_period' is ignored for evaluation metric.\n"
          ],
          "name": "stderr"
        },
        {
          "output_type": "stream",
          "text": [
            "0:\ttest: 0.7982227\ttest1: 0.8055500\tbest: 0.8055500 (0)\ttotal: 38.4ms\tremaining: 38.4s\n",
            "Stopped by overfitting detector  (500 iterations wait)\n",
            "\n",
            "bestTest = 0.8558428167\n",
            "bestIteration = 388\n",
            "\n",
            "Shrink model to first 389 iterations.\n",
            "================================Fold68====================================\n"
          ],
          "name": "stdout"
        },
        {
          "output_type": "stream",
          "text": [
            "Warning: Overfitting detector is active, thus evaluation metric is calculated on every iteration. 'metric_period' is ignored for evaluation metric.\n"
          ],
          "name": "stderr"
        },
        {
          "output_type": "stream",
          "text": [
            "0:\ttest: 0.7981739\ttest1: 0.8106206\tbest: 0.8106206 (0)\ttotal: 37.9ms\tremaining: 37.9s\n",
            "999:\ttest: 0.9189146\ttest1: 0.8734169\tbest: 0.8755092 (689)\ttotal: 28.3s\tremaining: 0us\n",
            "\n",
            "bestTest = 0.8755091838\n",
            "bestIteration = 689\n",
            "\n",
            "Shrink model to first 690 iterations.\n",
            "================================Fold69====================================\n"
          ],
          "name": "stdout"
        },
        {
          "output_type": "stream",
          "text": [
            "Warning: Overfitting detector is active, thus evaluation metric is calculated on every iteration. 'metric_period' is ignored for evaluation metric.\n"
          ],
          "name": "stderr"
        },
        {
          "output_type": "stream",
          "text": [
            "0:\ttest: 0.7983363\ttest1: 0.7874171\tbest: 0.7874171 (0)\ttotal: 38.4ms\tremaining: 38.4s\n",
            "Stopped by overfitting detector  (500 iterations wait)\n",
            "\n",
            "bestTest = 0.8383036911\n",
            "bestIteration = 212\n",
            "\n",
            "Shrink model to first 213 iterations.\n"
          ],
          "name": "stdout"
        }
      ]
    },
    {
      "cell_type": "code",
      "metadata": {
        "id": "DR0BY-8TG2Nr",
        "outputId": "9fae3f64-2630-4acd-aa50-3e209a838560",
        "colab": {
          "base_uri": "https://localhost:8080/",
          "height": 34
        }
      },
      "source": [
        "np.mean(scores)"
      ],
      "execution_count": null,
      "outputs": [
        {
          "output_type": "execute_result",
          "data": {
            "text/plain": [
              "0.8416361994727314"
            ]
          },
          "metadata": {
            "tags": []
          },
          "execution_count": 20
        }
      ]
    },
    {
      "cell_type": "code",
      "metadata": {
        "id": "shH-y3uSG6pP"
      },
      "source": [
        "test_pred = test_scores/70\n",
        "ss['default_status'] = test_pred"
      ],
      "execution_count": null,
      "outputs": []
    },
    {
      "cell_type": "code",
      "metadata": {
        "id": "bFvL1eNOHBI1"
      },
      "source": [
        "ss.to_csv('freq_enc-false-shuffle-lr-(-1nan)-cb70.csv',index=False)"
      ],
      "execution_count": null,
      "outputs": []
    },
    {
      "cell_type": "code",
      "metadata": {
        "id": "aYcGzmQIHGWL",
        "outputId": "cb945675-3bf6-4f1d-9930-e27da47d5803",
        "colab": {
          "base_uri": "https://localhost:8080/",
          "height": 156
        }
      },
      "source": [
        "!pip install lightgbm\n",
        "!pip install xgboost"
      ],
      "execution_count": null,
      "outputs": [
        {
          "output_type": "stream",
          "text": [
            "Requirement already satisfied: lightgbm in /usr/local/lib/python3.6/dist-packages (2.2.3)\n",
            "Requirement already satisfied: numpy in /usr/local/lib/python3.6/dist-packages (from lightgbm) (1.18.5)\n",
            "Requirement already satisfied: scikit-learn in /usr/local/lib/python3.6/dist-packages (from lightgbm) (0.22.2.post1)\n",
            "Requirement already satisfied: scipy in /usr/local/lib/python3.6/dist-packages (from lightgbm) (1.4.1)\n",
            "Requirement already satisfied: joblib>=0.11 in /usr/local/lib/python3.6/dist-packages (from scikit-learn->lightgbm) (0.16.0)\n",
            "Requirement already satisfied: xgboost in /usr/local/lib/python3.6/dist-packages (0.90)\n",
            "Requirement already satisfied: numpy in /usr/local/lib/python3.6/dist-packages (from xgboost) (1.18.5)\n",
            "Requirement already satisfied: scipy in /usr/local/lib/python3.6/dist-packages (from xgboost) (1.4.1)\n"
          ],
          "name": "stdout"
        }
      ]
    },
    {
      "cell_type": "code",
      "metadata": {
        "id": "U0wnkK3HSeo-"
      },
      "source": [
        "from lightgbm import LGBMClassifier\n",
        "from xgboost import XGBClassifier"
      ],
      "execution_count": null,
      "outputs": []
    },
    {
      "cell_type": "code",
      "metadata": {
        "id": "Vtzdq6mBSe0P",
        "outputId": "5a2210b0-d4f0-4bc2-e789-420abe70c616",
        "colab": {
          "base_uri": "https://localhost:8080/",
          "height": 1000
        }
      },
      "source": [
        "kf = KFold(n_splits=25,random_state=43,shuffle=True)\n",
        "scores2 = []\n",
        "test_scores2 = np.zeros(len(test_trans))\n",
        "for fold,(tr_in,te_in) in enumerate(kf.split(X)):\n",
        "    print(\"================================Fold{fold}====================================\".format(fold=fold))\n",
        "    X_train,X_test = X[tr_in],X[te_in]\n",
        "    y_train,y_test = y.iloc[tr_in],y.iloc[te_in]\n",
        "    lgb = LGBMClassifier(learning_rate=0.0755,random_state=42,metric='AUC')\n",
        "    lgb.fit(X_train,y_train,eval_set=[(X_train,y_train),(X_test,y_test)],early_stopping_rounds=500,verbose=1000)\n",
        "    scores2.append(roc_auc_score(y_test,lgb.predict_proba(X_test)[:,1]))\n",
        "    test_scores2 += lgb.predict_proba(test_trans)[:,1]"
      ],
      "execution_count": null,
      "outputs": [
        {
          "output_type": "stream",
          "text": [
            "================================Fold0====================================\n",
            "Training until validation scores don't improve for 500 rounds.\n",
            "Did not meet early stopping. Best iteration is:\n",
            "[100]\ttraining's auc: 0.873835\tvalid_1's auc: 0.818552\n",
            "================================Fold1====================================\n",
            "Training until validation scores don't improve for 500 rounds.\n",
            "Did not meet early stopping. Best iteration is:\n",
            "[100]\ttraining's auc: 0.873021\tvalid_1's auc: 0.832464\n",
            "================================Fold2====================================\n",
            "Training until validation scores don't improve for 500 rounds.\n",
            "Did not meet early stopping. Best iteration is:\n",
            "[100]\ttraining's auc: 0.872598\tvalid_1's auc: 0.848434\n",
            "================================Fold3====================================\n",
            "Training until validation scores don't improve for 500 rounds.\n",
            "Did not meet early stopping. Best iteration is:\n",
            "[100]\ttraining's auc: 0.873669\tvalid_1's auc: 0.822449\n",
            "================================Fold4====================================\n",
            "Training until validation scores don't improve for 500 rounds.\n",
            "Did not meet early stopping. Best iteration is:\n",
            "[100]\ttraining's auc: 0.87257\tvalid_1's auc: 0.857074\n",
            "================================Fold5====================================\n",
            "Training until validation scores don't improve for 500 rounds.\n",
            "Did not meet early stopping. Best iteration is:\n",
            "[100]\ttraining's auc: 0.872997\tvalid_1's auc: 0.840901\n",
            "================================Fold6====================================\n",
            "Training until validation scores don't improve for 500 rounds.\n",
            "Did not meet early stopping. Best iteration is:\n",
            "[100]\ttraining's auc: 0.873308\tvalid_1's auc: 0.836659\n",
            "================================Fold7====================================\n",
            "Training until validation scores don't improve for 500 rounds.\n",
            "Did not meet early stopping. Best iteration is:\n",
            "[100]\ttraining's auc: 0.873735\tvalid_1's auc: 0.824931\n",
            "================================Fold8====================================\n",
            "Training until validation scores don't improve for 500 rounds.\n",
            "Did not meet early stopping. Best iteration is:\n",
            "[100]\ttraining's auc: 0.873004\tvalid_1's auc: 0.84086\n",
            "================================Fold9====================================\n",
            "Training until validation scores don't improve for 500 rounds.\n",
            "Did not meet early stopping. Best iteration is:\n",
            "[100]\ttraining's auc: 0.873317\tvalid_1's auc: 0.837023\n",
            "================================Fold10====================================\n",
            "Training until validation scores don't improve for 500 rounds.\n",
            "Did not meet early stopping. Best iteration is:\n",
            "[100]\ttraining's auc: 0.873225\tvalid_1's auc: 0.844277\n",
            "================================Fold11====================================\n",
            "Training until validation scores don't improve for 500 rounds.\n",
            "Did not meet early stopping. Best iteration is:\n",
            "[100]\ttraining's auc: 0.873347\tvalid_1's auc: 0.824823\n",
            "================================Fold12====================================\n",
            "Training until validation scores don't improve for 500 rounds.\n",
            "Did not meet early stopping. Best iteration is:\n",
            "[100]\ttraining's auc: 0.872991\tvalid_1's auc: 0.843035\n",
            "================================Fold13====================================\n",
            "Training until validation scores don't improve for 500 rounds.\n",
            "Did not meet early stopping. Best iteration is:\n",
            "[100]\ttraining's auc: 0.873178\tvalid_1's auc: 0.841286\n",
            "================================Fold14====================================\n",
            "Training until validation scores don't improve for 500 rounds.\n",
            "Did not meet early stopping. Best iteration is:\n",
            "[100]\ttraining's auc: 0.873193\tvalid_1's auc: 0.823331\n",
            "================================Fold15====================================\n",
            "Training until validation scores don't improve for 500 rounds.\n",
            "Did not meet early stopping. Best iteration is:\n",
            "[100]\ttraining's auc: 0.872869\tvalid_1's auc: 0.833132\n",
            "================================Fold16====================================\n",
            "Training until validation scores don't improve for 500 rounds.\n",
            "Did not meet early stopping. Best iteration is:\n",
            "[100]\ttraining's auc: 0.874065\tvalid_1's auc: 0.819263\n",
            "================================Fold17====================================\n",
            "Training until validation scores don't improve for 500 rounds.\n",
            "Did not meet early stopping. Best iteration is:\n",
            "[100]\ttraining's auc: 0.874058\tvalid_1's auc: 0.823216\n",
            "================================Fold18====================================\n",
            "Training until validation scores don't improve for 500 rounds.\n",
            "Did not meet early stopping. Best iteration is:\n",
            "[100]\ttraining's auc: 0.872643\tvalid_1's auc: 0.848744\n",
            "================================Fold19====================================\n",
            "Training until validation scores don't improve for 500 rounds.\n",
            "Did not meet early stopping. Best iteration is:\n",
            "[100]\ttraining's auc: 0.873924\tvalid_1's auc: 0.818517\n",
            "================================Fold20====================================\n",
            "Training until validation scores don't improve for 500 rounds.\n",
            "Did not meet early stopping. Best iteration is:\n",
            "[100]\ttraining's auc: 0.872731\tvalid_1's auc: 0.847411\n",
            "================================Fold21====================================\n",
            "Training until validation scores don't improve for 500 rounds.\n",
            "Did not meet early stopping. Best iteration is:\n",
            "[100]\ttraining's auc: 0.872842\tvalid_1's auc: 0.842544\n",
            "================================Fold22====================================\n",
            "Training until validation scores don't improve for 500 rounds.\n",
            "Did not meet early stopping. Best iteration is:\n",
            "[100]\ttraining's auc: 0.87232\tvalid_1's auc: 0.845394\n",
            "================================Fold23====================================\n",
            "Training until validation scores don't improve for 500 rounds.\n",
            "Did not meet early stopping. Best iteration is:\n",
            "[100]\ttraining's auc: 0.872884\tvalid_1's auc: 0.842001\n",
            "================================Fold24====================================\n",
            "Training until validation scores don't improve for 500 rounds.\n",
            "Did not meet early stopping. Best iteration is:\n",
            "[100]\ttraining's auc: 0.872339\tvalid_1's auc: 0.850768\n"
          ],
          "name": "stdout"
        }
      ]
    },
    {
      "cell_type": "code",
      "metadata": {
        "id": "4HLVvjRwSfII",
        "outputId": "5712a01b-df7a-424f-89d3-6437413441b7",
        "colab": {
          "base_uri": "https://localhost:8080/",
          "height": 34
        }
      },
      "source": [
        "np.mean(scores2)"
      ],
      "execution_count": null,
      "outputs": [
        {
          "output_type": "execute_result",
          "data": {
            "text/plain": [
              "0.8362835852096755"
            ]
          },
          "metadata": {
            "tags": []
          },
          "execution_count": 26
        }
      ]
    },
    {
      "cell_type": "code",
      "metadata": {
        "id": "IeGlnlTvSfDp"
      },
      "source": [
        "test_pred2 = test_scores2/25\n",
        "ss['default_status'] = test_pred2"
      ],
      "execution_count": null,
      "outputs": []
    },
    {
      "cell_type": "code",
      "metadata": {
        "id": "cJeTxgurSe_A"
      },
      "source": [
        "ss.to_csv('freq_enc-false-shuffle-lr-(-1nan)-lgb25.csv',index=False)"
      ],
      "execution_count": null,
      "outputs": []
    },
    {
      "cell_type": "code",
      "metadata": {
        "id": "M98IfsLmSex-",
        "outputId": "8d1c7818-f592-4771-ae8d-8da98588ca6d",
        "colab": {
          "base_uri": "https://localhost:8080/",
          "height": 1000
        }
      },
      "source": [
        "kf = KFold(n_splits=25,random_state=43,shuffle=True)\n",
        "scores3 = []\n",
        "test_scores3 = np.zeros(len(test_trans))\n",
        "for fold,(tr_in,te_in) in enumerate(kf.split(X)):\n",
        "    print(\"================================Fold{fold}====================================\".format(fold=fold))\n",
        "    X_train,X_test = X[tr_in],X[te_in]\n",
        "    y_train,y_test = y.iloc[tr_in],y.iloc[te_in]\n",
        "    xgb = XGBClassifier(learning_rate=0.0755,random_seed=42,eval_metric=\"auc\")\n",
        "    xgb.fit(X_train,y_train,eval_set=[(X_train,y_train),(X_test,y_test)],early_stopping_rounds=500,verbose=1000)\n",
        "    scores3.append(roc_auc_score(y_test,xgb.predict_proba(X_test)[:,1]))\n",
        "    test_scores3 += xgb.predict_proba(test_trans)[:,1]"
      ],
      "execution_count": null,
      "outputs": [
        {
          "output_type": "stream",
          "text": [
            "================================Fold0====================================\n",
            "[0]\tvalidation_0-auc:0.779103\tvalidation_1-auc:0.762392\n",
            "Multiple eval metrics have been passed: 'validation_1-auc' will be used for early stopping.\n",
            "\n",
            "Will train until validation_1-auc hasn't improved in 500 rounds.\n",
            "[99]\tvalidation_0-auc:0.841654\tvalidation_1-auc:0.816179\n",
            "================================Fold1====================================\n",
            "[0]\tvalidation_0-auc:0.778133\tvalidation_1-auc:0.762161\n",
            "Multiple eval metrics have been passed: 'validation_1-auc' will be used for early stopping.\n",
            "\n",
            "Will train until validation_1-auc hasn't improved in 500 rounds.\n",
            "[99]\tvalidation_0-auc:0.841434\tvalidation_1-auc:0.826734\n",
            "================================Fold2====================================\n",
            "[0]\tvalidation_0-auc:0.778035\tvalidation_1-auc:0.788646\n",
            "Multiple eval metrics have been passed: 'validation_1-auc' will be used for early stopping.\n",
            "\n",
            "Will train until validation_1-auc hasn't improved in 500 rounds.\n",
            "[99]\tvalidation_0-auc:0.841144\tvalidation_1-auc:0.843789\n",
            "================================Fold3====================================\n",
            "[0]\tvalidation_0-auc:0.777794\tvalidation_1-auc:0.768799\n",
            "Multiple eval metrics have been passed: 'validation_1-auc' will be used for early stopping.\n",
            "\n",
            "Will train until validation_1-auc hasn't improved in 500 rounds.\n",
            "[99]\tvalidation_0-auc:0.842044\tvalidation_1-auc:0.820778\n",
            "================================Fold4====================================\n",
            "[0]\tvalidation_0-auc:0.777781\tvalidation_1-auc:0.796682\n",
            "Multiple eval metrics have been passed: 'validation_1-auc' will be used for early stopping.\n",
            "\n",
            "Will train until validation_1-auc hasn't improved in 500 rounds.\n",
            "[99]\tvalidation_0-auc:0.84047\tvalidation_1-auc:0.853076\n",
            "================================Fold5====================================\n",
            "[0]\tvalidation_0-auc:0.778468\tvalidation_1-auc:0.779695\n",
            "Multiple eval metrics have been passed: 'validation_1-auc' will be used for early stopping.\n",
            "\n",
            "Will train until validation_1-auc hasn't improved in 500 rounds.\n",
            "[99]\tvalidation_0-auc:0.840797\tvalidation_1-auc:0.838035\n",
            "================================Fold6====================================\n",
            "[0]\tvalidation_0-auc:0.777527\tvalidation_1-auc:0.77596\n",
            "Multiple eval metrics have been passed: 'validation_1-auc' will be used for early stopping.\n",
            "\n",
            "Will train until validation_1-auc hasn't improved in 500 rounds.\n",
            "[99]\tvalidation_0-auc:0.840967\tvalidation_1-auc:0.831289\n",
            "================================Fold7====================================\n",
            "[0]\tvalidation_0-auc:0.778604\tvalidation_1-auc:0.775474\n",
            "Multiple eval metrics have been passed: 'validation_1-auc' will be used for early stopping.\n",
            "\n",
            "Will train until validation_1-auc hasn't improved in 500 rounds.\n",
            "[99]\tvalidation_0-auc:0.842051\tvalidation_1-auc:0.818974\n",
            "================================Fold8====================================\n",
            "[0]\tvalidation_0-auc:0.778603\tvalidation_1-auc:0.774281\n",
            "Multiple eval metrics have been passed: 'validation_1-auc' will be used for early stopping.\n",
            "\n",
            "Will train until validation_1-auc hasn't improved in 500 rounds.\n",
            "[99]\tvalidation_0-auc:0.841043\tvalidation_1-auc:0.832245\n",
            "================================Fold9====================================\n",
            "[0]\tvalidation_0-auc:0.778991\tvalidation_1-auc:0.764645\n",
            "Multiple eval metrics have been passed: 'validation_1-auc' will be used for early stopping.\n",
            "\n",
            "Will train until validation_1-auc hasn't improved in 500 rounds.\n",
            "[99]\tvalidation_0-auc:0.840996\tvalidation_1-auc:0.829513\n",
            "================================Fold10====================================\n",
            "[0]\tvalidation_0-auc:0.778659\tvalidation_1-auc:0.773969\n",
            "Multiple eval metrics have been passed: 'validation_1-auc' will be used for early stopping.\n",
            "\n",
            "Will train until validation_1-auc hasn't improved in 500 rounds.\n",
            "[99]\tvalidation_0-auc:0.840742\tvalidation_1-auc:0.838525\n",
            "================================Fold11====================================\n",
            "[0]\tvalidation_0-auc:0.779483\tvalidation_1-auc:0.753518\n",
            "Multiple eval metrics have been passed: 'validation_1-auc' will be used for early stopping.\n",
            "\n",
            "Will train until validation_1-auc hasn't improved in 500 rounds.\n",
            "[99]\tvalidation_0-auc:0.841658\tvalidation_1-auc:0.821092\n",
            "================================Fold12====================================\n",
            "[0]\tvalidation_0-auc:0.777008\tvalidation_1-auc:0.778924\n",
            "Multiple eval metrics have been passed: 'validation_1-auc' will be used for early stopping.\n",
            "\n",
            "Will train until validation_1-auc hasn't improved in 500 rounds.\n",
            "[99]\tvalidation_0-auc:0.841104\tvalidation_1-auc:0.837742\n",
            "================================Fold13====================================\n",
            "[0]\tvalidation_0-auc:0.7795\tvalidation_1-auc:0.754526\n",
            "Multiple eval metrics have been passed: 'validation_1-auc' will be used for early stopping.\n",
            "\n",
            "Will train until validation_1-auc hasn't improved in 500 rounds.\n",
            "[99]\tvalidation_0-auc:0.841167\tvalidation_1-auc:0.834555\n",
            "================================Fold14====================================\n",
            "[0]\tvalidation_0-auc:0.779177\tvalidation_1-auc:0.762057\n",
            "Multiple eval metrics have been passed: 'validation_1-auc' will be used for early stopping.\n",
            "\n",
            "Will train until validation_1-auc hasn't improved in 500 rounds.\n",
            "[99]\tvalidation_0-auc:0.841729\tvalidation_1-auc:0.821753\n",
            "================================Fold15====================================\n",
            "[0]\tvalidation_0-auc:0.777259\tvalidation_1-auc:0.783266\n",
            "Multiple eval metrics have been passed: 'validation_1-auc' will be used for early stopping.\n",
            "\n",
            "Will train until validation_1-auc hasn't improved in 500 rounds.\n",
            "[99]\tvalidation_0-auc:0.841483\tvalidation_1-auc:0.82881\n",
            "================================Fold16====================================\n",
            "[0]\tvalidation_0-auc:0.779096\tvalidation_1-auc:0.76325\n",
            "Multiple eval metrics have been passed: 'validation_1-auc' will be used for early stopping.\n",
            "\n",
            "Will train until validation_1-auc hasn't improved in 500 rounds.\n",
            "[99]\tvalidation_0-auc:0.841732\tvalidation_1-auc:0.813435\n",
            "================================Fold17====================================\n",
            "[0]\tvalidation_0-auc:0.779328\tvalidation_1-auc:0.758193\n",
            "Multiple eval metrics have been passed: 'validation_1-auc' will be used for early stopping.\n",
            "\n",
            "Will train until validation_1-auc hasn't improved in 500 rounds.\n",
            "[99]\tvalidation_0-auc:0.841932\tvalidation_1-auc:0.821295\n",
            "================================Fold18====================================\n",
            "[0]\tvalidation_0-auc:0.778717\tvalidation_1-auc:0.773425\n",
            "Multiple eval metrics have been passed: 'validation_1-auc' will be used for early stopping.\n",
            "\n",
            "Will train until validation_1-auc hasn't improved in 500 rounds.\n",
            "[99]\tvalidation_0-auc:0.840805\tvalidation_1-auc:0.842922\n",
            "================================Fold19====================================\n",
            "[0]\tvalidation_0-auc:0.77788\tvalidation_1-auc:0.766927\n",
            "Multiple eval metrics have been passed: 'validation_1-auc' will be used for early stopping.\n",
            "\n",
            "Will train until validation_1-auc hasn't improved in 500 rounds.\n",
            "[99]\tvalidation_0-auc:0.841756\tvalidation_1-auc:0.816903\n",
            "================================Fold20====================================\n",
            "[0]\tvalidation_0-auc:0.777355\tvalidation_1-auc:0.800974\n",
            "Multiple eval metrics have been passed: 'validation_1-auc' will be used for early stopping.\n",
            "\n",
            "Will train until validation_1-auc hasn't improved in 500 rounds.\n",
            "[99]\tvalidation_0-auc:0.840805\tvalidation_1-auc:0.84688\n",
            "================================Fold21====================================\n",
            "[0]\tvalidation_0-auc:0.777544\tvalidation_1-auc:0.788905\n",
            "Multiple eval metrics have been passed: 'validation_1-auc' will be used for early stopping.\n",
            "\n",
            "Will train until validation_1-auc hasn't improved in 500 rounds.\n",
            "[99]\tvalidation_0-auc:0.84039\tvalidation_1-auc:0.839412\n",
            "================================Fold22====================================\n",
            "[0]\tvalidation_0-auc:0.776785\tvalidation_1-auc:0.792902\n",
            "Multiple eval metrics have been passed: 'validation_1-auc' will be used for early stopping.\n",
            "\n",
            "Will train until validation_1-auc hasn't improved in 500 rounds.\n",
            "[99]\tvalidation_0-auc:0.840807\tvalidation_1-auc:0.842208\n",
            "================================Fold23====================================\n",
            "[0]\tvalidation_0-auc:0.777661\tvalidation_1-auc:0.772866\n",
            "Multiple eval metrics have been passed: 'validation_1-auc' will be used for early stopping.\n",
            "\n",
            "Will train until validation_1-auc hasn't improved in 500 rounds.\n",
            "[99]\tvalidation_0-auc:0.840946\tvalidation_1-auc:0.834983\n",
            "================================Fold24====================================\n",
            "[0]\tvalidation_0-auc:0.778217\tvalidation_1-auc:0.786418\n",
            "Multiple eval metrics have been passed: 'validation_1-auc' will be used for early stopping.\n",
            "\n",
            "Will train until validation_1-auc hasn't improved in 500 rounds.\n",
            "[99]\tvalidation_0-auc:0.840586\tvalidation_1-auc:0.845637\n"
          ],
          "name": "stdout"
        }
      ]
    },
    {
      "cell_type": "code",
      "metadata": {
        "id": "YT9_yGLIaWuD",
        "outputId": "fcded7b1-ea22-42df-b251-632fc4361e7d",
        "colab": {
          "base_uri": "https://localhost:8080/",
          "height": 34
        }
      },
      "source": [
        "np.mean(scores3)"
      ],
      "execution_count": null,
      "outputs": [
        {
          "output_type": "execute_result",
          "data": {
            "text/plain": [
              "0.8318823945737934"
            ]
          },
          "metadata": {
            "tags": []
          },
          "execution_count": 30
        }
      ]
    },
    {
      "cell_type": "code",
      "metadata": {
        "id": "0_X3lt6iaalu"
      },
      "source": [
        "test_pred3 = test_scores3/25\n",
        "ss['default_status'] = test_pred3"
      ],
      "execution_count": null,
      "outputs": []
    },
    {
      "cell_type": "code",
      "metadata": {
        "id": "eou-DDqoaaj1"
      },
      "source": [
        "ss.to_csv('freq_enc-false-shuffle-lr-(-1nan)-xgb25.csv',index=False)"
      ],
      "execution_count": null,
      "outputs": []
    },
    {
      "cell_type": "code",
      "metadata": {
        "id": "4rzk2Tz0aaiB"
      },
      "source": [
        "from sklearn.model_selection import train_test_split\n",
        "X_train, X_test, y_train, y_test= train_test_split(X, y, test_size= 0.2,random_state=101)\n",
        "from sklearn.linear_model import LogisticRegression"
      ],
      "execution_count": null,
      "outputs": []
    },
    {
      "cell_type": "code",
      "metadata": {
        "id": "Uqh13amephyd",
        "outputId": "ef655b18-d2d3-4ab3-d4c4-3c18c4ea9da7",
        "colab": {
          "base_uri": "https://localhost:8080/",
          "height": 34
        }
      },
      "source": [
        "from sklearn.ensemble import StackingClassifier\n",
        "level0 = [('cat', CatBoostClassifier(learning_rate=0.0755, silent= True)), \n",
        "          ('lgb',LGBMClassifier(learning_rate=0.0755)),\n",
        "          ('xgb',XGBClassifier(learning_rate=0.0755))]\n",
        "level1= LogisticRegression()\n",
        "\n",
        "stack= StackingClassifier(estimators= level0, final_estimator=level1, passthrough= False, verbose= 0)\n",
        "stack.fit(X_train, y_train)\n",
        "stack_pred= stack.predict_proba(X_test)[:,1]\n",
        "roc_auc_score(y_test, stack_pred)"
      ],
      "execution_count": null,
      "outputs": [
        {
          "output_type": "execute_result",
          "data": {
            "text/plain": [
              "0.8377127556320277"
            ]
          },
          "metadata": {
            "tags": []
          },
          "execution_count": 34
        }
      ]
    },
    {
      "cell_type": "code",
      "metadata": {
        "id": "zU_oIOoypiKf"
      },
      "source": [
        "stack.fit(X, y)\n",
        "pred_stack = stack.predict_proba(test_trans)[:,1]"
      ],
      "execution_count": null,
      "outputs": []
    },
    {
      "cell_type": "code",
      "metadata": {
        "id": "DR_3GrGSpiIQ"
      },
      "source": [
        "ss['default_status'] = pred_stack\n",
        "ss.to_csv('stack4.csv',index=False)"
      ],
      "execution_count": null,
      "outputs": []
    },
    {
      "cell_type": "markdown",
      "metadata": {
        "id": "EKuooK8Br1Ug"
      },
      "source": [
        "`**BLENDING LOL**`\n"
      ]
    },
    {
      "cell_type": "code",
      "metadata": {
        "id": "70pN67VkpiGJ"
      },
      "source": [
        "a = pd.read_csv('freq_enc-false-shuffle-lr-(-1nan)-cb70.csv')[\"default_status\"]\n",
        "b = pd.read_csv('false-shuffle-lr-(-1nan)-cb70.csv')[\"default_status\"]\n",
        "c = pd.read_csv('lr-(-1nan)-cb35.csv')[\"default_status\"]\n",
        "d = pd.read_csv('freq_enc-false-shuffle-lr-(-1nan)-lgb25.csv')[\"default_status\"]\n",
        "e = pd.read_csv('freq_enc-false-shuffle-lr-(-1nan)-xgb25.csv')[\"default_status\"]\n",
        "f = pd.read_csv('stack4.csv')[\"default_status\"]"
      ],
      "execution_count": null,
      "outputs": []
    },
    {
      "cell_type": "code",
      "metadata": {
        "id": "qho-8YFapiAt"
      },
      "source": [
        "p1 = (a*0.8 + b*0.2)*0.7\n",
        "p2 = (c*0.25 + d*0.25 + e*0.25 + f*0.25)*0.3\n",
        "total = p1 + p2"
      ],
      "execution_count": null,
      "outputs": []
    },
    {
      "cell_type": "code",
      "metadata": {
        "id": "hk-zejlaaaeS"
      },
      "source": [
        "ss['default_status'] = total\n",
        "ss.to_csv('blend7.csv',index=False)"
      ],
      "execution_count": null,
      "outputs": []
    },
    {
      "cell_type": "markdown",
      "metadata": {
        "id": "vhMeca-84qHr"
      },
      "source": [
        "Some of my previous **blends**"
      ]
    },
    {
      "cell_type": "code",
      "metadata": {
        "id": "3tfjRlHLvOrH"
      },
      "source": [
        "a1 = pd.read_csv(\"unimproving_model.csv\")[\"default_status\"]\n",
        "b1 = pd.read_csv(\"give_up_bi_ti_bawo.csv\")[\"default_status\"]"
      ],
      "execution_count": null,
      "outputs": []
    },
    {
      "cell_type": "markdown",
      "metadata": {
        "id": "Aq3azupuqJtM"
      },
      "source": [
        "**a1** and **b1** were blends gotten from using X whose labels were transformed by label encoder instead of frequency encoding"
      ]
    },
    {
      "cell_type": "code",
      "metadata": {
        "id": "h_e7cj8y5Rfi"
      },
      "source": [
        "p3 = (a1*0.8 + b1*0.2) * 0.7\n",
        "p4 = (a*0.5 + b*0.5) * 0.3\n",
        "newtotal = p3+p4"
      ],
      "execution_count": null,
      "outputs": []
    },
    {
      "cell_type": "code",
      "metadata": {
        "id": "QRzwoYqF6Tnx"
      },
      "source": [
        "ss['default_status'] = newtotal\n",
        "ss.to_csv('blend8.csv',index=False)"
      ],
      "execution_count": null,
      "outputs": []
    },
    {
      "cell_type": "code",
      "metadata": {
        "id": "uF_4sQyrh4VV",
        "outputId": "10c8aa48-ce06-4383-9e28-4963d19cb977",
        "colab": {
          "base_uri": "https://localhost:8080/",
          "height": 52
        }
      },
      "source": [
        "ss.mean()"
      ],
      "execution_count": null,
      "outputs": [
        {
          "output_type": "execute_result",
          "data": {
            "text/plain": [
              "default_status    0.240812\n",
              "dtype: float64"
            ]
          },
          "metadata": {
            "tags": []
          },
          "execution_count": 48
        }
      ]
    },
    {
      "cell_type": "code",
      "metadata": {
        "id": "h7Kx8RSv6b--"
      },
      "source": [
        "#p5 = (a1*0.7 + b1*0.3) * 0.8\n",
        "#p6 = (c1*0.5 + d1*0.5) * 0.2\n",
        "#newtotal1 = p5+p6"
      ],
      "execution_count": null,
      "outputs": []
    },
    {
      "cell_type": "code",
      "metadata": {
        "id": "CPv2iFZ77K6s"
      },
      "source": [
        "#ss['default_status'] = newtotal1\n",
        "#ss.to_csv('blend6.csv',index=False)"
      ],
      "execution_count": null,
      "outputs": []
    },
    {
      "cell_type": "code",
      "metadata": {
        "id": "Gso7CvIJ7Smz"
      },
      "source": [
        "p7 = pd.read_csv(\"blend5.csv\")[\"default_status\"]\n",
        "p8 = pd.read_csv(\"blend6.csv\")[\"default_status\"]"
      ],
      "execution_count": null,
      "outputs": []
    },
    {
      "cell_type": "code",
      "metadata": {
        "id": "e58WdhHQ8rFn"
      },
      "source": [
        "final = p7 * 0.7 + p8 * 0.3"
      ],
      "execution_count": null,
      "outputs": []
    },
    {
      "cell_type": "code",
      "metadata": {
        "id": "NnqR2WXO8yIq"
      },
      "source": [
        "ss['default_status'] = p7\n",
        "ss.to_csv('blend9.csv',index=False)"
      ],
      "execution_count": null,
      "outputs": []
    },
    {
      "cell_type": "markdown",
      "metadata": {
        "id": "4gqV8u3lCITD"
      },
      "source": [
        "With these few trials of mine, I rest my case...I pray I'm selected for the \n",
        "bootcamp\n",
        "\n"
      ]
    },
    {
      "cell_type": "code",
      "metadata": {
        "id": "2kHgMuqDfUIm"
      },
      "source": [
        "a = pd.read_csv(\"unimproving_model.csv\")[\"default_status\"]\n",
        "b = pd.read_csv(\"blend5.csv\")[\"default_status\"]\n",
        "c = pd.read_csv(\"blend6.csv\")[\"default_status\"]\n",
        "d = pd.read_csv(\"freq_enc-false-shuffle-lr-(-1nan)-cb70.csv\")[\"default_status\"]\n",
        "e = pd.read_csv(\"false-shuffle-lr-(-1nan)-cb70.csv\")[\"default_status\"]"
      ],
      "execution_count": null,
      "outputs": []
    },
    {
      "cell_type": "code",
      "metadata": {
        "id": "dHqetTMdfUCz"
      },
      "source": [
        "total = a*0.6 + b*0.1 + c*0.1 + d*0.1 + e*0.1"
      ],
      "execution_count": null,
      "outputs": []
    },
    {
      "cell_type": "code",
      "metadata": {
        "id": "HlsPec1rgNJ4"
      },
      "source": [
        "ss[\"default_status\"] = total"
      ],
      "execution_count": null,
      "outputs": []
    },
    {
      "cell_type": "code",
      "metadata": {
        "id": "2MeNpZlJgVqD"
      },
      "source": [
        "ss.to_csv('m1.csv',index=False)"
      ],
      "execution_count": null,
      "outputs": []
    },
    {
      "cell_type": "code",
      "metadata": {
        "id": "VbBJU-MPgY-Y"
      },
      "source": [
        ""
      ],
      "execution_count": null,
      "outputs": []
    }
  ]
}